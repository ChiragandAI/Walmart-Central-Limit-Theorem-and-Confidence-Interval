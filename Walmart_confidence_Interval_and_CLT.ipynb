
  {
   "cell_type": "markdown",
   "id": "5ee64059",
   "metadata": {
    "id": "5ee64059"
   },
   "source": [
    "# Business Case: Walmart - Confidence Interval and CLT"
   ]
  },
  {
   "cell_type": "markdown",
   "id": "cf1b8c6d",
   "metadata": {
    "id": "cf1b8c6d"
   },
   "source": [
    "About Walmart:\n",
    "\n",
    "Walmart is an American multinational retail corporation that operates a chain of supercenters, discount departmental stores, and grocery stores from the United States. Walmart has more than 100 million customers worldwide.\n",
    "\n",
    "PROBLEM STATEMENT:\n",
    "\n",
    "Analyze the customer purchase behavior (specifically, purchase amount) against the customer’s gender and the various other factors to help the business make better decisions at Walmart Inc. Understand if the spending habits differ between male and female customers, also, Do women spend more on Black Friday than men?"
   ]
  },
  {
   "cell_type": "code",
   "execution_count": 2,
   "id": "92f47a0a",
   "metadata": {
    "id": "92f47a0a"
   },
   "outputs": [],
   "source": [
    "#Import the libraries:\n",
    "import numpy as np\n",
    "import pandas as pd\n",
    "import matplotlib.pyplot as plt\n",
    "import seaborn as sb"
   ]
  },
  {
   "cell_type": "code",
   "execution_count": 5,
   "id": "af7ca3e0",
   "metadata": {
    "id": "af7ca3e0",
    "outputId": "2dc6ce0d-4cf7-4c1c-f6f2-cf96bb80d344",
    "scrolled": true
   },
   "outputs": [
    {
     "data": {
      "text/html": [
       "<div>\n",
       "<style scoped>\n",
       "    .dataframe tbody tr th:only-of-type {\n",
       "        vertical-align: middle;\n",
       "    }\n",
       "\n",
       "    .dataframe tbody tr th {\n",
       "        vertical-align: top;\n",
       "    }\n",
       "\n",
       "    .dataframe thead th {\n",
       "        text-align: right;\n",
       "    }\n",
       "</style>\n",
       "<table border=\"1\" class=\"dataframe\">\n",
       "  <thead>\n",
       "    <tr style=\"text-align: right;\">\n",
       "      <th></th>\n",
       "      <th>User_ID</th>\n",
       "      <th>Product_ID</th>\n",
       "      <th>Gender</th>\n",
       "      <th>Age</th>\n",
       "      <th>Occupation</th>\n",
       "      <th>City_Category</th>\n",
       "      <th>Stay_In_Current_City_Years</th>\n",
       "      <th>Marital_Status</th>\n",
       "      <th>Product_Category</th>\n",
       "      <th>Purchase</th>\n",
       "    </tr>\n",
       "  </thead>\n",
       "  <tbody>\n",
       "    <tr>\n",
       "      <th>0</th>\n",
       "      <td>1000001</td>\n",
       "      <td>P00069042</td>\n",
       "      <td>F</td>\n",
       "      <td>0-17</td>\n",
       "      <td>10</td>\n",
       "      <td>A</td>\n",
       "      <td>2</td>\n",
       "      <td>0</td>\n",
       "      <td>3</td>\n",
       "      <td>8370</td>\n",
       "    </tr>\n",
       "    <tr>\n",
       "      <th>1</th>\n",
       "      <td>1000001</td>\n",
       "      <td>P00248942</td>\n",
       "      <td>F</td>\n",
       "      <td>0-17</td>\n",
       "      <td>10</td>\n",
       "      <td>A</td>\n",
       "      <td>2</td>\n",
       "      <td>0</td>\n",
       "      <td>1</td>\n",
       "      <td>15200</td>\n",
       "    </tr>\n",
       "    <tr>\n",
       "      <th>2</th>\n",
       "      <td>1000001</td>\n",
       "      <td>P00087842</td>\n",
       "      <td>F</td>\n",
       "      <td>0-17</td>\n",
       "      <td>10</td>\n",
       "      <td>A</td>\n",
       "      <td>2</td>\n",
       "      <td>0</td>\n",
       "      <td>12</td>\n",
       "      <td>1422</td>\n",
       "    </tr>\n",
       "    <tr>\n",
       "      <th>3</th>\n",
       "      <td>1000001</td>\n",
       "      <td>P00085442</td>\n",
       "      <td>F</td>\n",
       "      <td>0-17</td>\n",
       "      <td>10</td>\n",
       "      <td>A</td>\n",
       "      <td>2</td>\n",
       "      <td>0</td>\n",
       "      <td>12</td>\n",
       "      <td>1057</td>\n",
       "    </tr>\n",
       "    <tr>\n",
       "      <th>4</th>\n",
       "      <td>1000002</td>\n",
       "      <td>P00285442</td>\n",
       "      <td>M</td>\n",
       "      <td>55+</td>\n",
       "      <td>16</td>\n",
       "      <td>C</td>\n",
       "      <td>4+</td>\n",
       "      <td>0</td>\n",
       "      <td>8</td>\n",
       "      <td>7969</td>\n",
       "    </tr>\n",
       "    <tr>\n",
       "      <th>5</th>\n",
       "      <td>1000003</td>\n",
       "      <td>P00193542</td>\n",
       "      <td>M</td>\n",
       "      <td>26-35</td>\n",
       "      <td>15</td>\n",
       "      <td>A</td>\n",
       "      <td>3</td>\n",
       "      <td>0</td>\n",
       "      <td>1</td>\n",
       "      <td>15227</td>\n",
       "    </tr>\n",
       "    <tr>\n",
       "      <th>6</th>\n",
       "      <td>1000004</td>\n",
       "      <td>P00184942</td>\n",
       "      <td>M</td>\n",
       "      <td>46-50</td>\n",
       "      <td>7</td>\n",
       "      <td>B</td>\n",
       "      <td>2</td>\n",
       "      <td>1</td>\n",
       "      <td>1</td>\n",
       "      <td>19215</td>\n",
       "    </tr>\n",
       "    <tr>\n",
       "      <th>7</th>\n",
       "      <td>1000004</td>\n",
       "      <td>P00346142</td>\n",
       "      <td>M</td>\n",
       "      <td>46-50</td>\n",
       "      <td>7</td>\n",
       "      <td>B</td>\n",
       "      <td>2</td>\n",
       "      <td>1</td>\n",
       "      <td>1</td>\n",
       "      <td>15854</td>\n",
       "    </tr>\n",
       "    <tr>\n",
       "      <th>8</th>\n",
       "      <td>1000004</td>\n",
       "      <td>P0097242</td>\n",
       "      <td>M</td>\n",
       "      <td>46-50</td>\n",
       "      <td>7</td>\n",
       "      <td>B</td>\n",
       "      <td>2</td>\n",
       "      <td>1</td>\n",
       "      <td>1</td>\n",
       "      <td>15686</td>\n",
       "    </tr>\n",
       "    <tr>\n",
       "      <th>9</th>\n",
       "      <td>1000005</td>\n",
       "      <td>P00274942</td>\n",
       "      <td>M</td>\n",
       "      <td>26-35</td>\n",
       "      <td>20</td>\n",
       "      <td>A</td>\n",
       "      <td>1</td>\n",
       "      <td>1</td>\n",
       "      <td>8</td>\n",
       "      <td>7871</td>\n",
       "    </tr>\n",
       "  </tbody>\n",
       "</table>\n",
       "</div>"
      ],
      "text/plain": [
       "   User_ID Product_ID Gender    Age  Occupation City_Category  \\\n",
       "0  1000001  P00069042      F   0-17          10             A   \n",
       "1  1000001  P00248942      F   0-17          10             A   \n",
       "2  1000001  P00087842      F   0-17          10             A   \n",
       "3  1000001  P00085442      F   0-17          10             A   \n",
       "4  1000002  P00285442      M    55+          16             C   \n",
       "5  1000003  P00193542      M  26-35          15             A   \n",
       "6  1000004  P00184942      M  46-50           7             B   \n",
       "7  1000004  P00346142      M  46-50           7             B   \n",
       "8  1000004   P0097242      M  46-50           7             B   \n",
       "9  1000005  P00274942      M  26-35          20             A   \n",
       "\n",
       "  Stay_In_Current_City_Years  Marital_Status  Product_Category  Purchase  \n",
       "0                          2               0                 3      8370  \n",
       "1                          2               0                 1     15200  \n",
       "2                          2               0                12      1422  \n",
       "3                          2               0                12      1057  \n",
       "4                         4+               0                 8      7969  \n",
       "5                          3               0                 1     15227  \n",
       "6                          2               1                 1     19215  \n",
       "7                          2               1                 1     15854  \n",
       "8                          2               1                 1     15686  \n",
       "9                          1               1                 8      7871  "
      ]
     },
     "execution_count": 5,
     "metadata": {},
     "output_type": "execute_result"
    }
   ],
   "source": [
    "#Read the Walmart data:\n",
    "walmart = pd.read_csv(\"walmart_data.txt\")\n",
    "walmart.head(10)"
   ]
  },
  {
   "cell_type": "code",
   "execution_count": 8,
   "id": "14ee3ebb",
   "metadata": {},
   "outputs": [
    {
     "data": {
      "text/plain": [
       "(550068, 10)"
      ]
     },
     "execution_count": 8,
     "metadata": {},
     "output_type": "execute_result"
    }
   ],
   "source": [
    "# Let's perform some basic metric analysis\n",
    "# Shape \n",
    "walmart.shape"
   ]
  },
  {
   "cell_type": "code",
   "execution_count": 7,
   "id": "4a3f5d9f",
   "metadata": {},
   "outputs": [
    {
     "name": "stdout",
     "output_type": "stream",
     "text": [
      "<class 'pandas.core.frame.DataFrame'>\n",
      "RangeIndex: 550068 entries, 0 to 550067\n",
      "Data columns (total 10 columns):\n",
      " #   Column                      Non-Null Count   Dtype \n",
      "---  ------                      --------------   ----- \n",
      " 0   User_ID                     550068 non-null  int64 \n",
      " 1   Product_ID                  550068 non-null  object\n",
      " 2   Gender                      550068 non-null  object\n",
      " 3   Age                         550068 non-null  object\n",
      " 4   Occupation                  550068 non-null  int64 \n",
      " 5   City_Category               550068 non-null  object\n",
      " 6   Stay_In_Current_City_Years  550068 non-null  object\n",
      " 7   Marital_Status              550068 non-null  int64 \n",
      " 8   Product_Category            550068 non-null  int64 \n",
      " 9   Purchase                    550068 non-null  int64 \n",
      "dtypes: int64(5), object(5)\n",
      "memory usage: 42.0+ MB\n"
     ]
    }
   ],
   "source": [
    "# Information\n",
    "walmart.info()"
   ]
  },
  {
   "cell_type": "code",
   "execution_count": 10,
   "id": "2b4fba50",
   "metadata": {
    "id": "2b4fba50",
    "outputId": "69d4a149-b3d9-402f-c754-df6e79679987"
   },
   "outputs": [
    {
     "data": {
      "text/plain": [
       "User_ID                       0.0\n",
       "Product_ID                    0.0\n",
       "Gender                        0.0\n",
       "Age                           0.0\n",
       "Occupation                    0.0\n",
       "City_Category                 0.0\n",
       "Stay_In_Current_City_Years    0.0\n",
       "Marital_Status                0.0\n",
       "Product_Category              0.0\n",
       "Purchase                      0.0\n",
       "dtype: float64"
      ]
     },
     "execution_count": 10,
     "metadata": {},
     "output_type": "execute_result"
    }
   ],
   "source": [
    "#Checking missing values:\n",
    "walmart.isnull().sum()/len(walmart)*100"
   ]
  },
  {
   "cell_type": "code",
   "execution_count": 13,
   "id": "2cd5d4c4",
   "metadata": {
    "scrolled": true
   },
   "outputs": [
    {
     "data": {
      "text/html": [
       "<div>\n",
       "<style scoped>\n",
       "    .dataframe tbody tr th:only-of-type {\n",
       "        vertical-align: middle;\n",
       "    }\n",
       "\n",
       "    .dataframe tbody tr th {\n",
       "        vertical-align: top;\n",
       "    }\n",
       "\n",
       "    .dataframe thead th {\n",
       "        text-align: right;\n",
       "    }\n",
       "</style>\n",
       "<table border=\"1\" class=\"dataframe\">\n",
       "  <thead>\n",
       "    <tr style=\"text-align: right;\">\n",
       "      <th></th>\n",
       "      <th>User_ID</th>\n",
       "      <th>Product_ID</th>\n",
       "      <th>Gender</th>\n",
       "      <th>Age</th>\n",
       "      <th>Occupation</th>\n",
       "      <th>City_Category</th>\n",
       "      <th>Stay_In_Current_City_Years</th>\n",
       "      <th>Marital_Status</th>\n",
       "      <th>Product_Category</th>\n",
       "      <th>Purchase</th>\n",
       "    </tr>\n",
       "  </thead>\n",
       "  <tbody>\n",
       "  </tbody>\n",
       "</table>\n",
       "</div>"
      ],
      "text/plain": [
       "Empty DataFrame\n",
       "Columns: [User_ID, Product_ID, Gender, Age, Occupation, City_Category, Stay_In_Current_City_Years, Marital_Status, Product_Category, Purchase]\n",
       "Index: []"
      ]
     },
     "execution_count": 13,
     "metadata": {},
     "output_type": "execute_result"
    }
   ],
   "source": [
    "# Let's check, if there are any Duplicate values in the data.\n",
    "walmart[walmart.duplicated()]"
   ]
  },
  {
   "cell_type": "code",
   "execution_count": 14,
   "id": "41647746",
   "metadata": {
    "scrolled": false
   },
   "outputs": [
    {
     "name": "stdout",
     "output_type": "stream",
     "text": [
      "<class 'pandas.core.frame.DataFrame'>\n",
      "RangeIndex: 550068 entries, 0 to 550067\n",
      "Data columns (total 10 columns):\n",
      " #   Column                      Non-Null Count   Dtype \n",
      "---  ------                      --------------   ----- \n",
      " 0   User_ID                     550068 non-null  int64 \n",
      " 1   Product_ID                  550068 non-null  object\n",
      " 2   Gender                      550068 non-null  object\n",
      " 3   Age                         550068 non-null  object\n",
      " 4   Occupation                  550068 non-null  int64 \n",
      " 5   City_Category               550068 non-null  object\n",
      " 6   Stay_In_Current_City_Years  550068 non-null  object\n",
      " 7   Marital_Status              550068 non-null  int64 \n",
      " 8   Product_Category            550068 non-null  int64 \n",
      " 9   Purchase                    550068 non-null  int64 \n",
      "dtypes: int64(5), object(5)\n",
      "memory usage: 42.0+ MB\n"
     ]
    }
   ],
   "source": [
    "walmart.info()"
   ]
  },
  {
   "cell_type": "code",
   "execution_count": 17,
   "id": "1d8072f3",
   "metadata": {},
   "outputs": [
    {
     "name": "stdout",
     "output_type": "stream",
     "text": [
      "<class 'pandas.core.frame.DataFrame'>\n",
      "RangeIndex: 550068 entries, 0 to 550067\n",
      "Data columns (total 10 columns):\n",
      " #   Column                      Non-Null Count   Dtype   \n",
      "---  ------                      --------------   -----   \n",
      " 0   User_ID                     550068 non-null  object  \n",
      " 1   Product_ID                  550068 non-null  object  \n",
      " 2   Gender                      550068 non-null  category\n",
      " 3   Age                         550068 non-null  category\n",
      " 4   Occupation                  550068 non-null  category\n",
      " 5   City_Category               550068 non-null  category\n",
      " 6   Stay_In_Current_City_Years  550068 non-null  category\n",
      " 7   Marital_Status              550068 non-null  category\n",
      " 8   Product_Category            550068 non-null  category\n",
      " 9   Purchase                    550068 non-null  int64   \n",
      "dtypes: category(7), int64(1), object(2)\n",
      "memory usage: 16.3+ MB\n"
     ]
    }
   ],
   "source": [
    "columns=['Gender','Age','City_Category','Stay_In_Current_City_Years','Occupation', 'Marital_Status', 'Product_Category']\n",
    "walmart['User_ID']=walmart['User_ID'].astype('object')\n",
    "walmart[columns]=walmart[columns].astype('category')\n",
    "walmart.info()"
   ]
  },
  {
   "cell_type": "code",
   "execution_count": 18,
   "id": "9e917eb6",
   "metadata": {
    "id": "9e917eb6",
    "outputId": "2867a910-eab2-4af9-8323-51eb8d46d6a0"
   },
   "outputs": [
    {
     "data": {
      "text/html": [
       "<div>\n",
       "<style scoped>\n",
       "    .dataframe tbody tr th:only-of-type {\n",
       "        vertical-align: middle;\n",
       "    }\n",
       "\n",
       "    .dataframe tbody tr th {\n",
       "        vertical-align: top;\n",
       "    }\n",
       "\n",
       "    .dataframe thead th {\n",
       "        text-align: right;\n",
       "    }\n",
       "</style>\n",
       "<table border=\"1\" class=\"dataframe\">\n",
       "  <thead>\n",
       "    <tr style=\"text-align: right;\">\n",
       "      <th></th>\n",
       "      <th>User_ID</th>\n",
       "      <th>Product_ID</th>\n",
       "      <th>Gender</th>\n",
       "      <th>Age</th>\n",
       "      <th>Occupation</th>\n",
       "      <th>City_Category</th>\n",
       "      <th>Stay_In_Current_City_Years</th>\n",
       "      <th>Marital_Status</th>\n",
       "      <th>Product_Category</th>\n",
       "      <th>Purchase</th>\n",
       "    </tr>\n",
       "  </thead>\n",
       "  <tbody>\n",
       "    <tr>\n",
       "      <th>count</th>\n",
       "      <td>550068.0</td>\n",
       "      <td>550068</td>\n",
       "      <td>550068</td>\n",
       "      <td>550068</td>\n",
       "      <td>550068.0</td>\n",
       "      <td>550068</td>\n",
       "      <td>550068</td>\n",
       "      <td>550068.0</td>\n",
       "      <td>550068.0</td>\n",
       "      <td>550068.000000</td>\n",
       "    </tr>\n",
       "    <tr>\n",
       "      <th>unique</th>\n",
       "      <td>5891.0</td>\n",
       "      <td>3631</td>\n",
       "      <td>2</td>\n",
       "      <td>7</td>\n",
       "      <td>21.0</td>\n",
       "      <td>3</td>\n",
       "      <td>5</td>\n",
       "      <td>2.0</td>\n",
       "      <td>20.0</td>\n",
       "      <td>NaN</td>\n",
       "    </tr>\n",
       "    <tr>\n",
       "      <th>top</th>\n",
       "      <td>1001680.0</td>\n",
       "      <td>P00265242</td>\n",
       "      <td>M</td>\n",
       "      <td>26-35</td>\n",
       "      <td>4.0</td>\n",
       "      <td>B</td>\n",
       "      <td>1</td>\n",
       "      <td>0.0</td>\n",
       "      <td>5.0</td>\n",
       "      <td>NaN</td>\n",
       "    </tr>\n",
       "    <tr>\n",
       "      <th>freq</th>\n",
       "      <td>1026.0</td>\n",
       "      <td>1880</td>\n",
       "      <td>414259</td>\n",
       "      <td>219587</td>\n",
       "      <td>72308.0</td>\n",
       "      <td>231173</td>\n",
       "      <td>193821</td>\n",
       "      <td>324731.0</td>\n",
       "      <td>150933.0</td>\n",
       "      <td>NaN</td>\n",
       "    </tr>\n",
       "    <tr>\n",
       "      <th>mean</th>\n",
       "      <td>NaN</td>\n",
       "      <td>NaN</td>\n",
       "      <td>NaN</td>\n",
       "      <td>NaN</td>\n",
       "      <td>NaN</td>\n",
       "      <td>NaN</td>\n",
       "      <td>NaN</td>\n",
       "      <td>NaN</td>\n",
       "      <td>NaN</td>\n",
       "      <td>9263.968713</td>\n",
       "    </tr>\n",
       "    <tr>\n",
       "      <th>std</th>\n",
       "      <td>NaN</td>\n",
       "      <td>NaN</td>\n",
       "      <td>NaN</td>\n",
       "      <td>NaN</td>\n",
       "      <td>NaN</td>\n",
       "      <td>NaN</td>\n",
       "      <td>NaN</td>\n",
       "      <td>NaN</td>\n",
       "      <td>NaN</td>\n",
       "      <td>5023.065394</td>\n",
       "    </tr>\n",
       "    <tr>\n",
       "      <th>min</th>\n",
       "      <td>NaN</td>\n",
       "      <td>NaN</td>\n",
       "      <td>NaN</td>\n",
       "      <td>NaN</td>\n",
       "      <td>NaN</td>\n",
       "      <td>NaN</td>\n",
       "      <td>NaN</td>\n",
       "      <td>NaN</td>\n",
       "      <td>NaN</td>\n",
       "      <td>12.000000</td>\n",
       "    </tr>\n",
       "    <tr>\n",
       "      <th>25%</th>\n",
       "      <td>NaN</td>\n",
       "      <td>NaN</td>\n",
       "      <td>NaN</td>\n",
       "      <td>NaN</td>\n",
       "      <td>NaN</td>\n",
       "      <td>NaN</td>\n",
       "      <td>NaN</td>\n",
       "      <td>NaN</td>\n",
       "      <td>NaN</td>\n",
       "      <td>5823.000000</td>\n",
       "    </tr>\n",
       "    <tr>\n",
       "      <th>50%</th>\n",
       "      <td>NaN</td>\n",
       "      <td>NaN</td>\n",
       "      <td>NaN</td>\n",
       "      <td>NaN</td>\n",
       "      <td>NaN</td>\n",
       "      <td>NaN</td>\n",
       "      <td>NaN</td>\n",
       "      <td>NaN</td>\n",
       "      <td>NaN</td>\n",
       "      <td>8047.000000</td>\n",
       "    </tr>\n",
       "    <tr>\n",
       "      <th>75%</th>\n",
       "      <td>NaN</td>\n",
       "      <td>NaN</td>\n",
       "      <td>NaN</td>\n",
       "      <td>NaN</td>\n",
       "      <td>NaN</td>\n",
       "      <td>NaN</td>\n",
       "      <td>NaN</td>\n",
       "      <td>NaN</td>\n",
       "      <td>NaN</td>\n",
       "      <td>12054.000000</td>\n",
       "    </tr>\n",
       "    <tr>\n",
       "      <th>max</th>\n",
       "      <td>NaN</td>\n",
       "      <td>NaN</td>\n",
       "      <td>NaN</td>\n",
       "      <td>NaN</td>\n",
       "      <td>NaN</td>\n",
       "      <td>NaN</td>\n",
       "      <td>NaN</td>\n",
       "      <td>NaN</td>\n",
       "      <td>NaN</td>\n",
       "      <td>23961.000000</td>\n",
       "    </tr>\n",
       "  </tbody>\n",
       "</table>\n",
       "</div>"
      ],
      "text/plain": [
       "          User_ID Product_ID  Gender     Age  Occupation City_Category  \\\n",
       "count    550068.0     550068  550068  550068    550068.0        550068   \n",
       "unique     5891.0       3631       2       7        21.0             3   \n",
       "top     1001680.0  P00265242       M   26-35         4.0             B   \n",
       "freq       1026.0       1880  414259  219587     72308.0        231173   \n",
       "mean          NaN        NaN     NaN     NaN         NaN           NaN   \n",
       "std           NaN        NaN     NaN     NaN         NaN           NaN   \n",
       "min           NaN        NaN     NaN     NaN         NaN           NaN   \n",
       "25%           NaN        NaN     NaN     NaN         NaN           NaN   \n",
       "50%           NaN        NaN     NaN     NaN         NaN           NaN   \n",
       "75%           NaN        NaN     NaN     NaN         NaN           NaN   \n",
       "max           NaN        NaN     NaN     NaN         NaN           NaN   \n",
       "\n",
       "       Stay_In_Current_City_Years  Marital_Status  Product_Category  \\\n",
       "count                      550068        550068.0          550068.0   \n",
       "unique                          5             2.0              20.0   \n",
       "top                             1             0.0               5.0   \n",
       "freq                       193821        324731.0          150933.0   \n",
       "mean                          NaN             NaN               NaN   \n",
       "std                           NaN             NaN               NaN   \n",
       "min                           NaN             NaN               NaN   \n",
       "25%                           NaN             NaN               NaN   \n",
       "50%                           NaN             NaN               NaN   \n",
       "75%                           NaN             NaN               NaN   \n",
       "max                           NaN             NaN               NaN   \n",
       "\n",
       "             Purchase  \n",
       "count   550068.000000  \n",
       "unique            NaN  \n",
       "top               NaN  \n",
       "freq              NaN  \n",
       "mean      9263.968713  \n",
       "std       5023.065394  \n",
       "min         12.000000  \n",
       "25%       5823.000000  \n",
       "50%       8047.000000  \n",
       "75%      12054.000000  \n",
       "max      23961.000000  "
      ]
     },
     "execution_count": 18,
     "metadata": {},
     "output_type": "execute_result"
    }
   ],
   "source": [
    "#Checking the characteristics of the data:\n",
    "walmart.describe(include='all')"
   ]
  },
  {
   "cell_type": "markdown",
   "id": "fcc9325b",
   "metadata": {
    "id": "fcc9325b"
   },
   "source": [
    "Initial Observations:\n",
    "\n",
    "1. There are no missing values in the data, as well as there are no duplicate values.\n",
    "\n",
    "2. There are 3631 unique product IDs in the dataset. P00265242 is the most sold Product ID.\n",
    "\n",
    "3. There are 5891 unique User IDs in the dataset. 1001680 ID has ordered the most.\n",
    "\n",
    "4. The customers belongs to 21 distinct occupation for the purchases being made with Occupation 4 being the highest.\n",
    "\n",
    "5. Marital status unmarried contribute more in terms of the count for the purchase.\n",
    "\n",
    "6. There are 20 unique product categories with 5 being the highest.\n",
    "\n",
    "7. There are 7 unique age groups and most of the purchase belongs to age 26-35 group.\n",
    "\n",
    "8. There are 3 unique city categories with category B being the highest.\n",
    "\n",
    "9. 5 unique values for Stay_in_current_citi_years with 1 being the highest.\n",
    "\n",
    "10. The difference between mean and median seems to be significant for purchase that suggests outliers in the data.\n",
    "\n",
    "11. Minimum & Maximum purchase is 12 and 23961 suggests the purchasing behaviour is quite spread over a aignificant range of values.   \n",
    "\n",
    "12. Few categorical variable are of integer data type. It can be converted to character type.\n",
    "\n",
    "13. Out of 550068 data points, 414259's gender is Male and rest are the female. Male purchase count is much higher than female.\n",
    "\n",
    "14. Standard deviation for purchase have significant value which suggests data is more spread out for this attribute."
   ]
  },
  {
   "cell_type": "code",
   "execution_count": 96,
   "id": "8b2f25e1",
   "metadata": {
    "id": "8b2f25e1",
    "outputId": "e4f9b4c7-c927-45af-cc9f-7398e5438506",
    "scrolled": false
   },
   "outputs": [
    {
     "data": {
      "text/html": [
       "<div>\n",
       "<style scoped>\n",
       "    .dataframe tbody tr th:only-of-type {\n",
       "        vertical-align: middle;\n",
       "    }\n",
       "\n",
       "    .dataframe tbody tr th {\n",
       "        vertical-align: top;\n",
       "    }\n",
       "\n",
       "    .dataframe thead th {\n",
       "        text-align: right;\n",
       "    }\n",
       "</style>\n",
       "<table border=\"1\" class=\"dataframe\">\n",
       "  <thead>\n",
       "    <tr style=\"text-align: right;\">\n",
       "      <th></th>\n",
       "      <th></th>\n",
       "      <th>value</th>\n",
       "    </tr>\n",
       "    <tr>\n",
       "      <th>variable</th>\n",
       "      <th>value</th>\n",
       "      <th></th>\n",
       "    </tr>\n",
       "  </thead>\n",
       "  <tbody>\n",
       "    <tr>\n",
       "      <th rowspan=\"7\" valign=\"top\">Age</th>\n",
       "      <th>0-17</th>\n",
       "      <td>0.027455</td>\n",
       "    </tr>\n",
       "    <tr>\n",
       "      <th>18-25</th>\n",
       "      <td>0.181178</td>\n",
       "    </tr>\n",
       "    <tr>\n",
       "      <th>26-35</th>\n",
       "      <td>0.399200</td>\n",
       "    </tr>\n",
       "    <tr>\n",
       "      <th>36-45</th>\n",
       "      <td>0.199999</td>\n",
       "    </tr>\n",
       "    <tr>\n",
       "      <th>46-50</th>\n",
       "      <td>0.083082</td>\n",
       "    </tr>\n",
       "    <tr>\n",
       "      <th>51-55</th>\n",
       "      <td>0.069993</td>\n",
       "    </tr>\n",
       "    <tr>\n",
       "      <th>55+</th>\n",
       "      <td>0.039093</td>\n",
       "    </tr>\n",
       "    <tr>\n",
       "      <th rowspan=\"3\" valign=\"top\">City_Category</th>\n",
       "      <th>A</th>\n",
       "      <td>0.268549</td>\n",
       "    </tr>\n",
       "    <tr>\n",
       "      <th>B</th>\n",
       "      <td>0.420263</td>\n",
       "    </tr>\n",
       "    <tr>\n",
       "      <th>C</th>\n",
       "      <td>0.311189</td>\n",
       "    </tr>\n",
       "    <tr>\n",
       "      <th rowspan=\"2\" valign=\"top\">Gender</th>\n",
       "      <th>F</th>\n",
       "      <td>0.246895</td>\n",
       "    </tr>\n",
       "    <tr>\n",
       "      <th>M</th>\n",
       "      <td>0.753105</td>\n",
       "    </tr>\n",
       "    <tr>\n",
       "      <th rowspan=\"2\" valign=\"top\">Marital_Status</th>\n",
       "      <th>0</th>\n",
       "      <td>0.590347</td>\n",
       "    </tr>\n",
       "    <tr>\n",
       "      <th>1</th>\n",
       "      <td>0.409653</td>\n",
       "    </tr>\n",
       "    <tr>\n",
       "      <th rowspan=\"5\" valign=\"top\">Stay_In_Current_City_Years</th>\n",
       "      <th>0</th>\n",
       "      <td>0.135252</td>\n",
       "    </tr>\n",
       "    <tr>\n",
       "      <th>1</th>\n",
       "      <td>0.352358</td>\n",
       "    </tr>\n",
       "    <tr>\n",
       "      <th>2</th>\n",
       "      <td>0.185137</td>\n",
       "    </tr>\n",
       "    <tr>\n",
       "      <th>3</th>\n",
       "      <td>0.173224</td>\n",
       "    </tr>\n",
       "    <tr>\n",
       "      <th>4+</th>\n",
       "      <td>0.154028</td>\n",
       "    </tr>\n",
       "  </tbody>\n",
       "</table>\n",
       "</div>"
      ],
      "text/plain": [
       "                                     value\n",
       "variable                   value          \n",
       "Age                        0-17   0.027455\n",
       "                           18-25  0.181178\n",
       "                           26-35  0.399200\n",
       "                           36-45  0.199999\n",
       "                           46-50  0.083082\n",
       "                           51-55  0.069993\n",
       "                           55+    0.039093\n",
       "City_Category              A      0.268549\n",
       "                           B      0.420263\n",
       "                           C      0.311189\n",
       "Gender                     F      0.246895\n",
       "                           M      0.753105\n",
       "Marital_Status             0      0.590347\n",
       "                           1      0.409653\n",
       "Stay_In_Current_City_Years 0      0.135252\n",
       "                           1      0.352358\n",
       "                           2      0.185137\n",
       "                           3      0.173224\n",
       "                           4+     0.154028"
      ]
     },
     "execution_count": 96,
     "metadata": {},
     "output_type": "execute_result"
    }
   ],
   "source": [
    "# Checking how categorical variables contributes to the entire data\n",
    "categ_cols = ['Gender', 'Age', 'City_Category', 'Stay_In_Current_City_Years', 'Marital_Status']\n",
    "proportions = walmart[categ_cols].melt().groupby(['variable','value']).agg({'value':'count'})/len(walmart)\n",
    "proportions"
   ]
  },
  {
   "cell_type": "code",
   "execution_count": 99,
   "id": "6af143ac",
   "metadata": {},
   "outputs": [
    {
     "data": {
      "image/png": "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\n",
      "text/plain": [
       "<Figure size 720x1440 with 5 Axes>"
      ]
     },
     "metadata": {},
     "output_type": "display_data"
    }
   ],
   "source": [
    "fig,axes=plt.subplots(len(categ_cols),1,figsize=(10,20))\n",
    "\n",
    "for j in range(1,len(categ_cols)+1):\n",
    "    plt.subplot(len(categ_cols),1,j)\n",
    "    plt.pie(x=proportions.loc[categ_cols[j-1],'value'],labels=proportions.loc[categ_cols[j-1]].index, autopct='%1.1f%%')\n",
    "    plt.title(f'Percentage distribution of different {categ_cols[j-1]} Brackets')\n",
    "#     plt.show()\n",
    "plt.tight_layout()"
   ]
  },
  {
   "cell_type": "markdown",
   "id": "38a87257",
   "metadata": {
    "id": "38a87257"
   },
   "source": [
    "Observations:\n",
    "    \n",
    "    1. 40% of the purchase done by aged 26-35 and 78% purchase are done by the customers aged between the age 18-45 (40%: 26-35, 18%: 18-25, 20%: 36-45)\n",
    "    2. 75% of the purchase count are done by Male and 25% by Female\n",
    "    3. 60% Single, 40% Married contributes to the purchase count.\n",
    "    4. 35% Staying in the city from 1 year, 18% from 2 years, 17% from 3 years\n",
    "    5. There are 20 product categories in total.\n",
    "    6. There are 20 different types of occupations in the city."
   ]
  },
  {
   "cell_type": "code",
   "execution_count": 137,
   "id": "c0c5e1db",
   "metadata": {},
   "outputs": [
    {
     "data": {
      "text/plain": [
       "Age\n",
       "0-17     0.037006\n",
       "18-25    0.181463\n",
       "26-35    0.348498\n",
       "36-45    0.198099\n",
       "46-50    0.090137\n",
       "51-55    0.081650\n",
       "55+      0.063147\n",
       "dtype: float64"
      ]
     },
     "execution_count": 137,
     "metadata": {},
     "output_type": "execute_result"
    }
   ],
   "source": [
    "#Checking how the Age is spread on basis of distinct users\n",
    "walmart[['User_ID','Age']].value_counts().groupby('Age').count()/walmart.User_ID.nunique()"
   ]
  },
  {
   "cell_type": "markdown",
   "id": "f39c4471",
   "metadata": {
    "id": "f39c4471"
   },
   "source": [
    "Observation:\n",
    "\n",
    "    1. We can see 35% of the users are aged 26-35. 73% of users are aged between 18-45.\n",
    "    2. From the previous observation we saw 40% of the purchase are done by users aged 26-35. And, we have 35% of users aged between 26-35 and they are contributing 40% of total purchase count.So, we can infer users aged 26-35 are more frequent  customers."
   ]
  },
  {
   "cell_type": "code",
   "execution_count": 142,
   "id": "77dd4a21",
   "metadata": {
    "id": "77dd4a21",
    "outputId": "74989b0d-55e6-43dd-f827-961871083c3e"
   },
   "outputs": [
    {
     "data": {
      "text/plain": [
       "Gender\n",
       "F    0.282804\n",
       "M    0.717196\n",
       "dtype: float64"
      ]
     },
     "execution_count": 142,
     "metadata": {},
     "output_type": "execute_result"
    }
   ],
   "source": [
    "#Checking how the Gender is spread on basis of distinct users\n",
    "walmart[['User_ID','Gender']].value_counts().groupby('Gender').count()/walmart.User_ID.nunique()"
   ]
  },
  {
   "cell_type": "markdown",
   "id": "d3267b41",
   "metadata": {
    "id": "d3267b41"
   },
   "source": [
    "Observation:\n",
    "\n",
    "    1. We have 72% male users and 28% female users. Combining with previous observations we can see 72% of male users contributing to 75% of the purchase count and 28% of female users are contributing to 25% of the purchase count."
   ]
  },
  {
   "cell_type": "code",
   "execution_count": 143,
   "id": "2eb999b0",
   "metadata": {
    "id": "2eb999b0",
    "outputId": "0ce79d7b-0a4f-4506-c616-0edb4033e77b"
   },
   "outputs": [
    {
     "data": {
      "text/plain": [
       "Marital_Status\n",
       "0    0.580037\n",
       "1    0.419963\n",
       "dtype: float64"
      ]
     },
     "execution_count": 143,
     "metadata": {},
     "output_type": "execute_result"
    }
   ],
   "source": [
    "#Checking how the Marital Status is spread on basis of distinct users\n",
    "walmart[['User_ID','Marital_Status']].value_counts().groupby('Marital_Status').count()/walmart.User_ID.nunique()"
   ]
  },
  {
   "cell_type": "markdown",
   "id": "45456ad8",
   "metadata": {
    "id": "45456ad8"
   },
   "source": [
    "Observation:\n",
    "    1. We have 58% of the single users and 42% of married users. Combining with previous observation, single users contributes more as 58% of the single contributes to the 60% of the purchase count."
   ]
  },
  {
   "cell_type": "code",
   "execution_count": 144,
   "id": "d17cc318",
   "metadata": {
    "id": "d17cc318",
    "outputId": "c0256e79-c452-4287-c675-bbaff20136c8"
   },
   "outputs": [
    {
     "data": {
      "text/plain": [
       "City_Category\n",
       "A    0.177389\n",
       "B    0.289764\n",
       "C    0.532847\n",
       "dtype: float64"
      ]
     },
     "execution_count": 144,
     "metadata": {},
     "output_type": "execute_result"
    }
   ],
   "source": [
    "#Checking how the City Category is spread on basis of distinct users\n",
    "walmart[['User_ID','City_Category']].value_counts().groupby('City_Category').count()/walmart.User_ID.nunique()"
   ]
  },
  {
   "cell_type": "markdown",
   "id": "25c540d4",
   "metadata": {
    "id": "25c540d4"
   },
   "source": [
    "Observation:\n",
    "    \n",
    "    1. 53% of the users belong to city category C whereas 29% to category B and 18% belong to category A. Combining from the previous observation category B purchase count is 42% and Category C purchase count is 31%. We can clearly see category B are more actively purchasing inspite of the fact they are only 28% of the total users. On the other hand, we have 53% of category C users but they only contribute 31% of the total purchase count."
   ]
  },
  {
   "cell_type": "code",
   "execution_count": null,
   "id": "bc08ec1d",
   "metadata": {
    "id": "bc08ec1d",
    "outputId": "0ddc0540-df0e-4f18-f17f-23a34c0cc4ed"
   },
   "outputs": [
    {
     "data": {
      "text/html": [
       "<div>\n",
       "<style scoped>\n",
       "    .dataframe tbody tr th:only-of-type {\n",
       "        vertical-align: middle;\n",
       "    }\n",
       "\n",
       "    .dataframe tbody tr th {\n",
       "        vertical-align: top;\n",
       "    }\n",
       "\n",
       "    .dataframe thead th {\n",
       "        text-align: right;\n",
       "    }\n",
       "</style>\n",
       "<table border=\"1\" class=\"dataframe\">\n",
       "  <thead>\n",
       "    <tr style=\"text-align: right;\">\n",
       "      <th>Age</th>\n",
       "      <th>0-17</th>\n",
       "      <th>18-25</th>\n",
       "      <th>26-35</th>\n",
       "      <th>36-45</th>\n",
       "      <th>46-50</th>\n",
       "      <th>51-55</th>\n",
       "      <th>55+</th>\n",
       "    </tr>\n",
       "    <tr>\n",
       "      <th>City_Category</th>\n",
       "      <th></th>\n",
       "      <th></th>\n",
       "      <th></th>\n",
       "      <th></th>\n",
       "      <th></th>\n",
       "      <th></th>\n",
       "      <th></th>\n",
       "    </tr>\n",
       "  </thead>\n",
       "  <tbody>\n",
       "    <tr>\n",
       "      <th>A</th>\n",
       "      <td>0.017222</td>\n",
       "      <td>0.186400</td>\n",
       "      <td>0.499222</td>\n",
       "      <td>0.180185</td>\n",
       "      <td>0.051496</td>\n",
       "      <td>0.041288</td>\n",
       "      <td>0.024188</td>\n",
       "    </tr>\n",
       "    <tr>\n",
       "      <th>B</th>\n",
       "      <td>0.023511</td>\n",
       "      <td>0.187076</td>\n",
       "      <td>0.396171</td>\n",
       "      <td>0.205898</td>\n",
       "      <td>0.088272</td>\n",
       "      <td>0.076743</td>\n",
       "      <td>0.022330</td>\n",
       "    </tr>\n",
       "    <tr>\n",
       "      <th>C</th>\n",
       "      <td>0.041612</td>\n",
       "      <td>0.168705</td>\n",
       "      <td>0.316974</td>\n",
       "      <td>0.209131</td>\n",
       "      <td>0.103333</td>\n",
       "      <td>0.085649</td>\n",
       "      <td>0.074596</td>\n",
       "    </tr>\n",
       "    <tr>\n",
       "      <th>All</th>\n",
       "      <td>0.027455</td>\n",
       "      <td>0.181178</td>\n",
       "      <td>0.399200</td>\n",
       "      <td>0.199999</td>\n",
       "      <td>0.083082</td>\n",
       "      <td>0.069993</td>\n",
       "      <td>0.039093</td>\n",
       "    </tr>\n",
       "  </tbody>\n",
       "</table>\n",
       "</div>"
      ],
      "text/plain": [
       "Age                0-17     18-25     26-35     36-45     46-50     51-55  \\\n",
       "City_Category                                                               \n",
       "A              0.017222  0.186400  0.499222  0.180185  0.051496  0.041288   \n",
       "B              0.023511  0.187076  0.396171  0.205898  0.088272  0.076743   \n",
       "C              0.041612  0.168705  0.316974  0.209131  0.103333  0.085649   \n",
       "All            0.027455  0.181178  0.399200  0.199999  0.083082  0.069993   \n",
       "\n",
       "Age                 55+  \n",
       "City_Category            \n",
       "A              0.024188  \n",
       "B              0.022330  \n",
       "C              0.074596  \n",
       "All            0.039093  "
      ]
     },
     "execution_count": 16,
     "metadata": {},
     "output_type": "execute_result"
    }
   ],
   "source": [
    "#Checking the age group distribution in different city categories\n",
    "pd.crosstab(index=walmart[\"City_Category\"],columns=walmart[\"Age\"],margins=True,normalize=\"index\")"
   ]
  },
  {
   "cell_type": "markdown",
   "id": "82f93f33",
   "metadata": {
    "id": "82f93f33"
   },
   "source": [
    "Observation:\n",
    "    \n",
    "    1. We have seen earlier that city category B and A constitutes less percentage of total population, but they contribute more towards purchase count. We can see from above results large percentage of customers aged 26-35 for B(40%) and A (50%) which can be the reason for these city categories to be more actively purchasing."
   ]
  },
  {
   "cell_type": "code",
   "execution_count": 145,
   "id": "a6899410",
   "metadata": {
    "id": "a6899410",
    "outputId": "331766cc-fd65-441e-999e-60805dc97618"
   },
   "outputs": [
    {
     "data": {
      "text/html": [
       "<div>\n",
       "<style scoped>\n",
       "    .dataframe tbody tr th:only-of-type {\n",
       "        vertical-align: middle;\n",
       "    }\n",
       "\n",
       "    .dataframe tbody tr th {\n",
       "        vertical-align: top;\n",
       "    }\n",
       "\n",
       "    .dataframe thead th {\n",
       "        text-align: right;\n",
       "    }\n",
       "</style>\n",
       "<table border=\"1\" class=\"dataframe\">\n",
       "  <thead>\n",
       "    <tr style=\"text-align: right;\">\n",
       "      <th></th>\n",
       "      <th>Purchase</th>\n",
       "      <th>Percent</th>\n",
       "    </tr>\n",
       "    <tr>\n",
       "      <th>Gender</th>\n",
       "      <th></th>\n",
       "      <th></th>\n",
       "    </tr>\n",
       "  </thead>\n",
       "  <tbody>\n",
       "    <tr>\n",
       "      <th>F</th>\n",
       "      <td>1186232642</td>\n",
       "      <td>23.278576</td>\n",
       "    </tr>\n",
       "    <tr>\n",
       "      <th>M</th>\n",
       "      <td>3909580100</td>\n",
       "      <td>76.721424</td>\n",
       "    </tr>\n",
       "  </tbody>\n",
       "</table>\n",
       "</div>"
      ],
      "text/plain": [
       "          Purchase    Percent\n",
       "Gender                       \n",
       "F       1186232642  23.278576\n",
       "M       3909580100  76.721424"
      ]
     },
     "execution_count": 145,
     "metadata": {},
     "output_type": "execute_result"
    }
   ],
   "source": [
    "#Checking how genders are contributing towards total purchase amount\n",
    "walmart2=pd.DataFrame(walmart.groupby(['Gender'])[['Purchase']].sum())\n",
    "\n",
    "walmart2['Percent'] = (walmart2['Purchase'] /\n",
    "                  walmart2['Purchase'].sum()) * 100\n",
    "walmart2"
   ]
  },
  {
   "cell_type": "markdown",
   "id": "73119871",
   "metadata": {
    "id": "73119871"
   },
   "source": [
    "Observation:\n",
    "\n",
    "1. We can see male(72% of the population) contributes to more than 76% of the total purchase amount whereas female(28% of the population) contributes 23% of the total purchase amount."
   ]
  },
  {
   "cell_type": "code",
   "execution_count": 146,
   "id": "44aa598e",
   "metadata": {
    "id": "44aa598e",
    "outputId": "7a2f9d0b-9f50-480b-b1f2-9470d5a86671"
   },
   "outputs": [
    {
     "data": {
      "text/html": [
       "<div>\n",
       "<style scoped>\n",
       "    .dataframe tbody tr th:only-of-type {\n",
       "        vertical-align: middle;\n",
       "    }\n",
       "\n",
       "    .dataframe tbody tr th {\n",
       "        vertical-align: top;\n",
       "    }\n",
       "\n",
       "    .dataframe thead th {\n",
       "        text-align: right;\n",
       "    }\n",
       "</style>\n",
       "<table border=\"1\" class=\"dataframe\">\n",
       "  <thead>\n",
       "    <tr style=\"text-align: right;\">\n",
       "      <th></th>\n",
       "      <th>Purchase</th>\n",
       "      <th>Percent</th>\n",
       "    </tr>\n",
       "    <tr>\n",
       "      <th>Age</th>\n",
       "      <th></th>\n",
       "      <th></th>\n",
       "    </tr>\n",
       "  </thead>\n",
       "  <tbody>\n",
       "    <tr>\n",
       "      <th>0-17</th>\n",
       "      <td>134913183</td>\n",
       "      <td>2.647530</td>\n",
       "    </tr>\n",
       "    <tr>\n",
       "      <th>18-25</th>\n",
       "      <td>913848675</td>\n",
       "      <td>17.933325</td>\n",
       "    </tr>\n",
       "    <tr>\n",
       "      <th>26-35</th>\n",
       "      <td>2031770578</td>\n",
       "      <td>39.871374</td>\n",
       "    </tr>\n",
       "    <tr>\n",
       "      <th>36-45</th>\n",
       "      <td>1026569884</td>\n",
       "      <td>20.145361</td>\n",
       "    </tr>\n",
       "    <tr>\n",
       "      <th>46-50</th>\n",
       "      <td>420843403</td>\n",
       "      <td>8.258612</td>\n",
       "    </tr>\n",
       "    <tr>\n",
       "      <th>51-55</th>\n",
       "      <td>367099644</td>\n",
       "      <td>7.203947</td>\n",
       "    </tr>\n",
       "    <tr>\n",
       "      <th>55+</th>\n",
       "      <td>200767375</td>\n",
       "      <td>3.939850</td>\n",
       "    </tr>\n",
       "  </tbody>\n",
       "</table>\n",
       "</div>"
      ],
      "text/plain": [
       "         Purchase    Percent\n",
       "Age                         \n",
       "0-17    134913183   2.647530\n",
       "18-25   913848675  17.933325\n",
       "26-35  2031770578  39.871374\n",
       "36-45  1026569884  20.145361\n",
       "46-50   420843403   8.258612\n",
       "51-55   367099644   7.203947\n",
       "55+     200767375   3.939850"
      ]
     },
     "execution_count": 146,
     "metadata": {},
     "output_type": "execute_result"
    }
   ],
   "source": [
    "#Checking how purchase value are spread among different age categories\n",
    "walmart2=pd.DataFrame(walmart.groupby(['Age'])[['Purchase']].sum())\n",
    "\n",
    "walmart2['Percent'] = (walmart2['Purchase'] /\n",
    "                  walmart2['Purchase'].sum()) * 100\n",
    "walmart2"
   ]
  },
  {
   "cell_type": "markdown",
   "id": "f5d0709a",
   "metadata": {
    "id": "f5d0709a"
   },
   "source": [
    "Observation:\n",
    "\n",
    "    1. We can see the net purchase amount spread is similar to the purchase count spread among the different age groups."
   ]
  },
  {
   "cell_type": "code",
   "execution_count": 147,
   "id": "e09e8c1e",
   "metadata": {
    "id": "e09e8c1e",
    "outputId": "96fdb7f2-cbcf-4380-bfaa-53a38dd5e835"
   },
   "outputs": [
    {
     "data": {
      "text/html": [
       "<div>\n",
       "<style scoped>\n",
       "    .dataframe tbody tr th:only-of-type {\n",
       "        vertical-align: middle;\n",
       "    }\n",
       "\n",
       "    .dataframe tbody tr th {\n",
       "        vertical-align: top;\n",
       "    }\n",
       "\n",
       "    .dataframe thead th {\n",
       "        text-align: right;\n",
       "    }\n",
       "</style>\n",
       "<table border=\"1\" class=\"dataframe\">\n",
       "  <thead>\n",
       "    <tr style=\"text-align: right;\">\n",
       "      <th></th>\n",
       "      <th>Purchase</th>\n",
       "      <th>Percent</th>\n",
       "    </tr>\n",
       "    <tr>\n",
       "      <th>Marital_Status</th>\n",
       "      <th></th>\n",
       "      <th></th>\n",
       "    </tr>\n",
       "  </thead>\n",
       "  <tbody>\n",
       "    <tr>\n",
       "      <th>0</th>\n",
       "      <td>3008927447</td>\n",
       "      <td>59.047057</td>\n",
       "    </tr>\n",
       "    <tr>\n",
       "      <th>1</th>\n",
       "      <td>2086885295</td>\n",
       "      <td>40.952943</td>\n",
       "    </tr>\n",
       "  </tbody>\n",
       "</table>\n",
       "</div>"
      ],
      "text/plain": [
       "                  Purchase    Percent\n",
       "Marital_Status                       \n",
       "0               3008927447  59.047057\n",
       "1               2086885295  40.952943"
      ]
     },
     "execution_count": 147,
     "metadata": {},
     "output_type": "execute_result"
    }
   ],
   "source": [
    "#Checking how purchase value are spread among different marital status categories\n",
    "walmart2=pd.DataFrame(walmart.groupby(['Marital_Status'])['Purchase'].sum())\n",
    "\n",
    "walmart2['Percent'] = (walmart2['Purchase'] /\n",
    "                  walmart2['Purchase'].sum()) * 100\n",
    "walmart2"
   ]
  },
  {
   "cell_type": "markdown",
   "id": "296a9820",
   "metadata": {
    "id": "296a9820"
   },
   "source": [
    "Observations:\n",
    "\n",
    "    1. Single users are contributing 59% towards the total purchase amount in comparison to 41% by married users."
   ]
  },
  {
   "cell_type": "code",
   "execution_count": 148,
   "id": "3ac6b56c",
   "metadata": {
    "id": "3ac6b56c",
    "outputId": "00da12b4-11c6-4e20-fcb0-f87ad457e83d"
   },
   "outputs": [
    {
     "data": {
      "text/html": [
       "<div>\n",
       "<style scoped>\n",
       "    .dataframe tbody tr th:only-of-type {\n",
       "        vertical-align: middle;\n",
       "    }\n",
       "\n",
       "    .dataframe tbody tr th {\n",
       "        vertical-align: top;\n",
       "    }\n",
       "\n",
       "    .dataframe thead th {\n",
       "        text-align: right;\n",
       "    }\n",
       "</style>\n",
       "<table border=\"1\" class=\"dataframe\">\n",
       "  <thead>\n",
       "    <tr style=\"text-align: right;\">\n",
       "      <th></th>\n",
       "      <th>Purchase</th>\n",
       "      <th>Percent</th>\n",
       "    </tr>\n",
       "    <tr>\n",
       "      <th>City_Category</th>\n",
       "      <th></th>\n",
       "      <th></th>\n",
       "    </tr>\n",
       "  </thead>\n",
       "  <tbody>\n",
       "    <tr>\n",
       "      <th>A</th>\n",
       "      <td>1316471661</td>\n",
       "      <td>25.834381</td>\n",
       "    </tr>\n",
       "    <tr>\n",
       "      <th>B</th>\n",
       "      <td>2115533605</td>\n",
       "      <td>41.515136</td>\n",
       "    </tr>\n",
       "    <tr>\n",
       "      <th>C</th>\n",
       "      <td>1663807476</td>\n",
       "      <td>32.650483</td>\n",
       "    </tr>\n",
       "  </tbody>\n",
       "</table>\n",
       "</div>"
      ],
      "text/plain": [
       "                 Purchase    Percent\n",
       "City_Category                       \n",
       "A              1316471661  25.834381\n",
       "B              2115533605  41.515136\n",
       "C              1663807476  32.650483"
      ]
     },
     "execution_count": 148,
     "metadata": {},
     "output_type": "execute_result"
    }
   ],
   "source": [
    "#Checking how purchase value are spread among different city categories\n",
    "walmart2=pd.DataFrame(walmart.groupby(['City_Category'])['Purchase'].sum())\n",
    "\n",
    "walmart2['Percent'] = (walmart2['Purchase'] /\n",
    "                  walmart2['Purchase'].sum()) * 100\n",
    "walmart2"
   ]
  },
  {
   "cell_type": "markdown",
   "id": "2cdfc025",
   "metadata": {
    "id": "2cdfc025"
   },
   "source": [
    "Observations:\n",
    "    \n",
    "    1. City_category contribution to the total purchase amount is also similar to their contribution towards Purchase count. Still, combining with previous observation we can see, City_category C although has percentage purchase count of 31% but they contribute more in terms of purchase amount i.e. 32.65%. We can infer City category C purchase higher value products, as compared to the other two."
   ]
  },
  {
   "cell_type": "code",
   "execution_count": null,
   "id": "501a5eff",
   "metadata": {
    "id": "501a5eff",
    "outputId": "743eae31-dc80-4957-d178-a7053269d807",
    "scrolled": true
   },
   "outputs": [
    {
     "data": {
      "text/plain": [
       "User_ID\n",
       "1001680    1026\n",
       "1004277     979\n",
       "1001941     898\n",
       "1001181     862\n",
       "1000889     823\n",
       "1003618     767\n",
       "1001150     752\n",
       "1001015     740\n",
       "1005795     729\n",
       "1005831     727\n",
       "Name: Purchase, dtype: int64"
      ]
     },
     "execution_count": 20,
     "metadata": {},
     "output_type": "execute_result"
    }
   ],
   "source": [
    "# Users with highest number of purchases\n",
    "walmart.groupby(['User_ID'])['Purchase'].count().nlargest(10)"
   ]
  },
  {
   "cell_type": "markdown",
   "id": "909a9120",
   "metadata": {},
   "source": [
    "Observations:\n",
    "\n",
    "We observe that the User ID 1001680 has purchased the most."
   ]
  },
  {
   "cell_type": "code",
   "execution_count": null,
   "id": "255af6eb",
   "metadata": {
    "id": "255af6eb",
    "outputId": "8b1ca010-d126-43c7-bb12-c05e558f6424"
   },
   "outputs": [
    {
     "data": {
      "text/plain": [
       "User_ID\n",
       "1004277    10536909\n",
       "1001680     8699596\n",
       "1002909     7577756\n",
       "1001941     6817493\n",
       "1000424     6573609\n",
       "1004448     6566245\n",
       "1005831     6512433\n",
       "1001015     6511314\n",
       "1003391     6477160\n",
       "1001181     6387961\n",
       "Name: Purchase, dtype: int64"
      ]
     },
     "execution_count": 21,
     "metadata": {},
     "output_type": "execute_result"
    }
   ],
   "source": [
    "#Users with highest purchases amount\n",
    "walmart.groupby(['User_ID'])['Purchase'].sum().nlargest(10)"
   ]
  },
  {
   "cell_type": "markdown",
   "id": "aa97c370",
   "metadata": {
    "id": "aa97c370"
   },
   "source": [
    "Observation:\n",
    "\n",
    "    1. The users with high number of purchases contribute more to the purchase amount. Still, we can see there are few users not in the list of top 10 purchase counts are there in list of top 10 purchase amount. Also, the user 1004277 with lesser purchase count(979) has a much higher purchase amount than the user(1001680) with top purchase count."
   ]
  },
  {
   "cell_type": "code",
   "execution_count": 149,
   "id": "77b9eb70",
   "metadata": {
    "id": "77b9eb70",
    "outputId": "505a2e8f-4a3b-44ac-f25d-77474cc22c29"
   },
   "outputs": [
    {
     "data": {
      "text/html": [
       "<div>\n",
       "<style scoped>\n",
       "    .dataframe tbody tr th:only-of-type {\n",
       "        vertical-align: middle;\n",
       "    }\n",
       "\n",
       "    .dataframe tbody tr th {\n",
       "        vertical-align: top;\n",
       "    }\n",
       "\n",
       "    .dataframe thead th {\n",
       "        text-align: right;\n",
       "    }\n",
       "</style>\n",
       "<table border=\"1\" class=\"dataframe\">\n",
       "  <thead>\n",
       "    <tr style=\"text-align: right;\">\n",
       "      <th></th>\n",
       "      <th>Purchase</th>\n",
       "      <th>Percent</th>\n",
       "    </tr>\n",
       "    <tr>\n",
       "      <th>Occupation</th>\n",
       "      <th></th>\n",
       "      <th></th>\n",
       "    </tr>\n",
       "  </thead>\n",
       "  <tbody>\n",
       "    <tr>\n",
       "      <th>0</th>\n",
       "      <td>635406958</td>\n",
       "      <td>12.469198</td>\n",
       "    </tr>\n",
       "    <tr>\n",
       "      <th>1</th>\n",
       "      <td>424614144</td>\n",
       "      <td>8.332609</td>\n",
       "    </tr>\n",
       "    <tr>\n",
       "      <th>2</th>\n",
       "      <td>238028583</td>\n",
       "      <td>4.671062</td>\n",
       "    </tr>\n",
       "    <tr>\n",
       "      <th>3</th>\n",
       "      <td>162002168</td>\n",
       "      <td>3.179123</td>\n",
       "    </tr>\n",
       "    <tr>\n",
       "      <th>4</th>\n",
       "      <td>666244484</td>\n",
       "      <td>13.074352</td>\n",
       "    </tr>\n",
       "    <tr>\n",
       "      <th>5</th>\n",
       "      <td>113649759</td>\n",
       "      <td>2.230258</td>\n",
       "    </tr>\n",
       "    <tr>\n",
       "      <th>6</th>\n",
       "      <td>188416784</td>\n",
       "      <td>3.697482</td>\n",
       "    </tr>\n",
       "    <tr>\n",
       "      <th>7</th>\n",
       "      <td>557371587</td>\n",
       "      <td>10.937835</td>\n",
       "    </tr>\n",
       "    <tr>\n",
       "      <th>8</th>\n",
       "      <td>14737388</td>\n",
       "      <td>0.289206</td>\n",
       "    </tr>\n",
       "    <tr>\n",
       "      <th>9</th>\n",
       "      <td>54340046</td>\n",
       "      <td>1.066367</td>\n",
       "    </tr>\n",
       "    <tr>\n",
       "      <th>10</th>\n",
       "      <td>115844465</td>\n",
       "      <td>2.273327</td>\n",
       "    </tr>\n",
       "    <tr>\n",
       "      <th>11</th>\n",
       "      <td>106751618</td>\n",
       "      <td>2.094889</td>\n",
       "    </tr>\n",
       "    <tr>\n",
       "      <th>12</th>\n",
       "      <td>305449446</td>\n",
       "      <td>5.994126</td>\n",
       "    </tr>\n",
       "    <tr>\n",
       "      <th>13</th>\n",
       "      <td>71919481</td>\n",
       "      <td>1.411345</td>\n",
       "    </tr>\n",
       "    <tr>\n",
       "      <th>14</th>\n",
       "      <td>259454692</td>\n",
       "      <td>5.091527</td>\n",
       "    </tr>\n",
       "    <tr>\n",
       "      <th>15</th>\n",
       "      <td>118960211</td>\n",
       "      <td>2.334470</td>\n",
       "    </tr>\n",
       "    <tr>\n",
       "      <th>16</th>\n",
       "      <td>238346955</td>\n",
       "      <td>4.677310</td>\n",
       "    </tr>\n",
       "    <tr>\n",
       "      <th>17</th>\n",
       "      <td>393281453</td>\n",
       "      <td>7.717738</td>\n",
       "    </tr>\n",
       "    <tr>\n",
       "      <th>18</th>\n",
       "      <td>60721461</td>\n",
       "      <td>1.191595</td>\n",
       "    </tr>\n",
       "    <tr>\n",
       "      <th>19</th>\n",
       "      <td>73700617</td>\n",
       "      <td>1.446298</td>\n",
       "    </tr>\n",
       "    <tr>\n",
       "      <th>20</th>\n",
       "      <td>296570442</td>\n",
       "      <td>5.819885</td>\n",
       "    </tr>\n",
       "  </tbody>\n",
       "</table>\n",
       "</div>"
      ],
      "text/plain": [
       "             Purchase    Percent\n",
       "Occupation                      \n",
       "0           635406958  12.469198\n",
       "1           424614144   8.332609\n",
       "2           238028583   4.671062\n",
       "3           162002168   3.179123\n",
       "4           666244484  13.074352\n",
       "5           113649759   2.230258\n",
       "6           188416784   3.697482\n",
       "7           557371587  10.937835\n",
       "8            14737388   0.289206\n",
       "9            54340046   1.066367\n",
       "10          115844465   2.273327\n",
       "11          106751618   2.094889\n",
       "12          305449446   5.994126\n",
       "13           71919481   1.411345\n",
       "14          259454692   5.091527\n",
       "15          118960211   2.334470\n",
       "16          238346955   4.677310\n",
       "17          393281453   7.717738\n",
       "18           60721461   1.191595\n",
       "19           73700617   1.446298\n",
       "20          296570442   5.819885"
      ]
     },
     "execution_count": 149,
     "metadata": {},
     "output_type": "execute_result"
    }
   ],
   "source": [
    "#Checking how purchase value are spread among different occupation categories\n",
    "walmart2=pd.DataFrame(walmart.groupby(['Occupation'])[['Purchase']].sum())\n",
    "\n",
    "walmart2['Percent'] = (walmart2['Purchase'] /\n",
    "                  walmart2['Purchase'].sum()) * 100\n",
    "walmart2"
   ]
  },
  {
   "cell_type": "markdown",
   "id": "f7e2953d",
   "metadata": {
    "id": "f7e2953d"
   },
   "source": [
    "Observations:\n",
    "    \n",
    "    1. Some of the Occupation like 0, 4, 7 has contributed more towards total purchase amount."
   ]
  },
  {
   "cell_type": "code",
   "execution_count": 150,
   "id": "58b0db02",
   "metadata": {
    "id": "58b0db02",
    "outputId": "373eab3a-2d63-48c4-b12f-2bdaf044fc80"
   },
   "outputs": [
    {
     "data": {
      "text/html": [
       "<div>\n",
       "<style scoped>\n",
       "    .dataframe tbody tr th:only-of-type {\n",
       "        vertical-align: middle;\n",
       "    }\n",
       "\n",
       "    .dataframe tbody tr th {\n",
       "        vertical-align: top;\n",
       "    }\n",
       "\n",
       "    .dataframe thead th {\n",
       "        text-align: right;\n",
       "    }\n",
       "</style>\n",
       "<table border=\"1\" class=\"dataframe\">\n",
       "  <thead>\n",
       "    <tr style=\"text-align: right;\">\n",
       "      <th></th>\n",
       "      <th>Purchase</th>\n",
       "      <th>Percent</th>\n",
       "    </tr>\n",
       "    <tr>\n",
       "      <th>Product_Category</th>\n",
       "      <th></th>\n",
       "      <th></th>\n",
       "    </tr>\n",
       "  </thead>\n",
       "  <tbody>\n",
       "    <tr>\n",
       "      <th>1</th>\n",
       "      <td>1910013754</td>\n",
       "      <td>37.482024</td>\n",
       "    </tr>\n",
       "    <tr>\n",
       "      <th>2</th>\n",
       "      <td>268516186</td>\n",
       "      <td>5.269350</td>\n",
       "    </tr>\n",
       "    <tr>\n",
       "      <th>3</th>\n",
       "      <td>204084713</td>\n",
       "      <td>4.004949</td>\n",
       "    </tr>\n",
       "    <tr>\n",
       "      <th>4</th>\n",
       "      <td>27380488</td>\n",
       "      <td>0.537313</td>\n",
       "    </tr>\n",
       "    <tr>\n",
       "      <th>5</th>\n",
       "      <td>941835229</td>\n",
       "      <td>18.482532</td>\n",
       "    </tr>\n",
       "    <tr>\n",
       "      <th>6</th>\n",
       "      <td>324150302</td>\n",
       "      <td>6.361111</td>\n",
       "    </tr>\n",
       "    <tr>\n",
       "      <th>7</th>\n",
       "      <td>60896731</td>\n",
       "      <td>1.195035</td>\n",
       "    </tr>\n",
       "    <tr>\n",
       "      <th>8</th>\n",
       "      <td>854318799</td>\n",
       "      <td>16.765114</td>\n",
       "    </tr>\n",
       "    <tr>\n",
       "      <th>9</th>\n",
       "      <td>6370324</td>\n",
       "      <td>0.125011</td>\n",
       "    </tr>\n",
       "    <tr>\n",
       "      <th>10</th>\n",
       "      <td>100837301</td>\n",
       "      <td>1.978827</td>\n",
       "    </tr>\n",
       "    <tr>\n",
       "      <th>11</th>\n",
       "      <td>113791115</td>\n",
       "      <td>2.233032</td>\n",
       "    </tr>\n",
       "    <tr>\n",
       "      <th>12</th>\n",
       "      <td>5331844</td>\n",
       "      <td>0.104632</td>\n",
       "    </tr>\n",
       "    <tr>\n",
       "      <th>13</th>\n",
       "      <td>4008601</td>\n",
       "      <td>0.078665</td>\n",
       "    </tr>\n",
       "    <tr>\n",
       "      <th>14</th>\n",
       "      <td>20014696</td>\n",
       "      <td>0.392767</td>\n",
       "    </tr>\n",
       "    <tr>\n",
       "      <th>15</th>\n",
       "      <td>92969042</td>\n",
       "      <td>1.824420</td>\n",
       "    </tr>\n",
       "    <tr>\n",
       "      <th>16</th>\n",
       "      <td>145120612</td>\n",
       "      <td>2.847840</td>\n",
       "    </tr>\n",
       "    <tr>\n",
       "      <th>17</th>\n",
       "      <td>5878699</td>\n",
       "      <td>0.115363</td>\n",
       "    </tr>\n",
       "    <tr>\n",
       "      <th>18</th>\n",
       "      <td>9290201</td>\n",
       "      <td>0.182310</td>\n",
       "    </tr>\n",
       "    <tr>\n",
       "      <th>19</th>\n",
       "      <td>59378</td>\n",
       "      <td>0.001165</td>\n",
       "    </tr>\n",
       "    <tr>\n",
       "      <th>20</th>\n",
       "      <td>944727</td>\n",
       "      <td>0.018539</td>\n",
       "    </tr>\n",
       "  </tbody>\n",
       "</table>\n",
       "</div>"
      ],
      "text/plain": [
       "                    Purchase    Percent\n",
       "Product_Category                       \n",
       "1                 1910013754  37.482024\n",
       "2                  268516186   5.269350\n",
       "3                  204084713   4.004949\n",
       "4                   27380488   0.537313\n",
       "5                  941835229  18.482532\n",
       "6                  324150302   6.361111\n",
       "7                   60896731   1.195035\n",
       "8                  854318799  16.765114\n",
       "9                    6370324   0.125011\n",
       "10                 100837301   1.978827\n",
       "11                 113791115   2.233032\n",
       "12                   5331844   0.104632\n",
       "13                   4008601   0.078665\n",
       "14                  20014696   0.392767\n",
       "15                  92969042   1.824420\n",
       "16                 145120612   2.847840\n",
       "17                   5878699   0.115363\n",
       "18                   9290201   0.182310\n",
       "19                     59378   0.001165\n",
       "20                    944727   0.018539"
      ]
     },
     "execution_count": 150,
     "metadata": {},
     "output_type": "execute_result"
    }
   ],
   "source": [
    "#Checking how purchase value are spread among different product categories\n",
    "walmart2=pd.DataFrame(walmart.groupby(['Product_Category'])[['Purchase']].sum())\n",
    "\n",
    "walmart2['Percent'] = (walmart2['Purchase'] /\n",
    "                  walmart2['Purchase'].sum()) * 100\n",
    "walmart2"
   ]
  },
  {
   "cell_type": "markdown",
   "id": "985c0211",
   "metadata": {
    "id": "985c0211"
   },
   "source": [
    "Observations:\n",
    "    \n",
    "    1. 1, 8, 5 are among the highest yielding product categories and 19, 20, 13 are among the lowest in terms of their contribution to total amount."
   ]
  },
  {
   "cell_type": "code",
   "execution_count": 151,
   "id": "9ee29c5f",
   "metadata": {
    "id": "9ee29c5f",
    "outputId": "3121ca69-8af8-4f96-e75f-0e2602bfdc16"
   },
   "outputs": [
    {
     "data": {
      "text/html": [
       "<div>\n",
       "<style scoped>\n",
       "    .dataframe tbody tr th:only-of-type {\n",
       "        vertical-align: middle;\n",
       "    }\n",
       "\n",
       "    .dataframe tbody tr th {\n",
       "        vertical-align: top;\n",
       "    }\n",
       "\n",
       "    .dataframe thead th {\n",
       "        text-align: right;\n",
       "    }\n",
       "</style>\n",
       "<table border=\"1\" class=\"dataframe\">\n",
       "  <thead>\n",
       "    <tr style=\"text-align: right;\">\n",
       "      <th></th>\n",
       "      <th>Purchase</th>\n",
       "      <th>Percent</th>\n",
       "    </tr>\n",
       "    <tr>\n",
       "      <th>Stay_In_Current_City_Years</th>\n",
       "      <th></th>\n",
       "      <th></th>\n",
       "    </tr>\n",
       "  </thead>\n",
       "  <tbody>\n",
       "    <tr>\n",
       "      <th>0</th>\n",
       "      <td>682979229</td>\n",
       "      <td>13.402754</td>\n",
       "    </tr>\n",
       "    <tr>\n",
       "      <th>1</th>\n",
       "      <td>1792872533</td>\n",
       "      <td>35.183250</td>\n",
       "    </tr>\n",
       "    <tr>\n",
       "      <th>2</th>\n",
       "      <td>949173931</td>\n",
       "      <td>18.626547</td>\n",
       "    </tr>\n",
       "    <tr>\n",
       "      <th>3</th>\n",
       "      <td>884902659</td>\n",
       "      <td>17.365290</td>\n",
       "    </tr>\n",
       "    <tr>\n",
       "      <th>4+</th>\n",
       "      <td>785884390</td>\n",
       "      <td>15.422160</td>\n",
       "    </tr>\n",
       "  </tbody>\n",
       "</table>\n",
       "</div>"
      ],
      "text/plain": [
       "                              Purchase    Percent\n",
       "Stay_In_Current_City_Years                       \n",
       "0                            682979229  13.402754\n",
       "1                           1792872533  35.183250\n",
       "2                            949173931  18.626547\n",
       "3                            884902659  17.365290\n",
       "4+                           785884390  15.422160"
      ]
     },
     "execution_count": 151,
     "metadata": {},
     "output_type": "execute_result"
    }
   ],
   "source": [
    "#Checking how purchase value are spread amongst different stay years categories\n",
    "walmart2=pd.DataFrame(walmart.groupby(['Stay_In_Current_City_Years'])[['Purchase']].sum())\n",
    "\n",
    "walmart2['Percent'] = (walmart2['Purchase'] /\n",
    "                  walmart2['Purchase'].sum()) * 100\n",
    "walmart2"
   ]
  },
  {
   "cell_type": "markdown",
   "id": "05cb6935",
   "metadata": {
    "id": "05cb6935"
   },
   "source": [
    "# Univariate Analysis:\n",
    "\n",
    "We can explore the distribution of the data for the quantitative attributes using histplot.  "
   ]
  },
  {
   "cell_type": "code",
   "execution_count": null,
   "id": "1e131a98",
   "metadata": {
    "id": "1e131a98",
    "outputId": "3ed21e55-3d4f-4e4b-f7fc-abc6c882beea"
   },
   "outputs": [
    {
     "data": {
      "image/png": "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\n",
      "text/plain": [
       "<Figure size 720x432 with 1 Axes>"
      ]
     },
     "metadata": {
      "needs_background": "light"
     },
     "output_type": "display_data"
    }
   ],
   "source": [
    "# Let's start our exploration with the Purchase column\n",
    "plt.figure(figsize=(10, 6))\n",
    "sb.histplot(data=walmart, x=\"Purchase\", kde=True)\n",
    "plt.show()"
   ]
  },
  {
   "cell_type": "markdown",
   "id": "e2d8bb1c",
   "metadata": {
    "id": "e2d8bb1c"
   },
   "source": [
    "Observation:\n",
    "    \n",
    "    1. We can see purchase value between 5000 and 10000 have higher count. From the initial observation we have already seen the mean and median is 9263 and 8047 respectively. Also, we can see there are outliers in the data."
   ]
  },
  {
   "cell_type": "code",
   "execution_count": 152,
   "id": "11e06e47",
   "metadata": {
    "id": "11e06e47",
    "outputId": "644270c9-008b-427d-c28f-1f6c29b63cb8"
   },
   "outputs": [
    {
     "data": {
      "image/png": "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\n",
      "text/plain": [
       "<Figure size 432x432 with 1 Axes>"
      ]
     },
     "metadata": {
      "needs_background": "light"
     },
     "output_type": "display_data"
    }
   ],
   "source": [
    "# Let's get an idea about the outliers\n",
    "plt.figure(figsize=(6, 6))\n",
    "sb.boxplot(data=walmart, y='Purchase')\n",
    "plt.show()"
   ]
  },
  {
   "cell_type": "markdown",
   "id": "1eb37a7c",
   "metadata": {
    "id": "1eb37a7c"
   },
   "source": [
    "Observation:\n",
    "    \n",
    "    We can see there are outliers in the data for purchase.\n",
    "    \n",
    "Univariate analysis for qualitative variables:"
   ]
  },
  {
   "cell_type": "code",
   "execution_count": 179,
   "id": "563f174d",
   "metadata": {
    "id": "563f174d",
    "outputId": "9c5af575-ca0a-4f0c-dd4f-edb29acb341a",
    "scrolled": false
   },
   "outputs": [
    {
     "data": {
      "image/png": "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\n",
      "text/plain": [
       "<Figure size 1440x864 with 4 Axes>"
      ]
     },
     "metadata": {
      "needs_background": "light"
     },
     "output_type": "display_data"
    }
   ],
   "source": [
    "fig, axs = plt.subplots(nrows=2, ncols=2, figsize=(20, 12))\n",
    "\n",
    "plt.subplot(2,2,1)\n",
    "ax1 = sb.countplot(data=walmart, x='Gender', ax=axs[0,0])\n",
    "plt.bar_label(ax1.containers[0], label_type='edge')\n",
    "\n",
    "plt.subplot(2,2,2)\n",
    "ax2 = sb.countplot(data=walmart, x='Occupation', ax=axs[0,1])\n",
    "plt.bar_label(ax2.containers[0], label_type='edge')\n",
    "\n",
    "plt.subplot(2,2,3)\n",
    "ax3 = sb.countplot(data=walmart, x='City_Category', ax=axs[1,0])\n",
    "plt.bar_label(ax3.containers[0], label_type='edge')\n",
    "\n",
    "plt.subplot(2,2,4)\n",
    "ax4 = sb.countplot(data=walmart, x='Marital_Status', ax=axs[1,1])\n",
    "plt.bar_label(ax4.containers[0], label_type='edge')\n",
    "\n",
    "plt.tight_layout()\n",
    "plt.show()"
   ]
  },
  {
   "cell_type": "markdown",
   "id": "abd78cbe",
   "metadata": {
    "id": "abd78cbe"
   },
   "source": [
    "Observations:\n",
    "    \n",
    "    1. We can clearly see from the graphs above the purchases done by males are much higher than females.\n",
    "    2. We have 21 occupations categories. Occupation category 4, 0, and 7 are with higher number of purchases and category 8 with the lowest number of purchaes.\n",
    "    3. The purchases are highest from City category B.\n",
    "    4. Single customer purchases are higher than married users."
   ]
  },
  {
   "cell_type": "code",
   "execution_count": 181,
   "id": "01508170",
   "metadata": {
    "id": "01508170",
    "outputId": "cbc01237-c48e-427a-f543-97a144de56c5"
   },
   "outputs": [
    {
     "data": {
      "image/png": "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\n",
      "text/plain": [
       "<Figure size 864x360 with 1 Axes>"
      ]
     },
     "metadata": {
      "needs_background": "light"
     },
     "output_type": "display_data"
    }
   ],
   "source": [
    "plt.figure(figsize=(12, 5))\n",
    "ax = sb.countplot(data=walmart, x='Product_Category')\n",
    "plt.bar_label(ax.containers[0], label_type='edge')\n",
    "plt.show()"
   ]
  },
  {
   "cell_type": "markdown",
   "id": "6b76bb8f",
   "metadata": {
    "id": "6b76bb8f"
   },
   "source": [
    "Observations:\n",
    "    \n",
    "    1. There are 20 product categories with product category 1, 5 and  8 having higher purchasing frequency."
   ]
  },
  {
   "cell_type": "markdown",
   "id": "2364817f",
   "metadata": {
    "id": "2364817f"
   },
   "source": [
    "Bivariate Analysis:"
   ]
  },
  {
   "cell_type": "code",
   "execution_count": 185,
   "id": "61c1f6ed",
   "metadata": {
    "id": "61c1f6ed",
    "outputId": "7a6484a2-3716-4105-f35e-fd4af92e6ea6"
   },
   "outputs": [
    {
     "data": {
      "image/png": "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\n",
      "text/plain": [
       "<Figure size 1440x1080 with 2 Axes>"
      ]
     },
     "metadata": {
      "needs_background": "light"
     },
     "output_type": "display_data"
    }
   ],
   "source": [
    "fig, axs = plt.subplots(nrows=2, ncols=1, figsize=(20,15))\n",
    "\n",
    "plt.subplot(2,1,1)\n",
    "sb.histplot(kde=True,data=walmart[walmart['Gender']=='M']['Purchase'], ax=axs[0]).set_title(\"Male Spending \")\n",
    "\n",
    "plt.subplot(2,1,2)\n",
    "sb.histplot(kde=True,data=walmart[walmart['Gender']=='F']['Purchase'], ax=axs[1]).set_title(\"Female Spending\")\n",
    "plt.show()"
   ]
  },
  {
   "cell_type": "markdown",
   "id": "caeb4a74",
   "metadata": {
    "id": "caeb4a74"
   },
   "source": [
    "Observations:\n",
    "    \n",
    "    1. From the above histplot, we can clearly see spending behaviour is very much similar in nature for both males and females as the maximum purchase count are between the purchase value range of 5000-10000 for both. But, the purchase count are more in case of males."
   ]
  },
  {
   "cell_type": "code",
   "execution_count": 188,
   "id": "1d708ed3",
   "metadata": {
    "id": "1d708ed3",
    "outputId": "af1d46d5-7415-4feb-9629-c36878cb9584"
   },
   "outputs": [
    {
     "data": {
      "image/png": "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\n",
      "text/plain": [
       "<Figure size 1512x864 with 6 Axes>"
      ]
     },
     "metadata": {
      "needs_background": "light"
     },
     "output_type": "display_data"
    },
    {
     "data": {
      "image/png": "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\n",
      "text/plain": [
       "<Figure size 864x432 with 1 Axes>"
      ]
     },
     "metadata": {
      "needs_background": "light"
     },
     "output_type": "display_data"
    }
   ],
   "source": [
    "attr = ['Gender', 'Age', 'Occupation', 'City_Category', 'Stay_In_Current_City_Years', 'Marital_Status']\n",
    "\n",
    "fig, axs = plt.subplots(nrows=3, ncols=2, figsize=(21, 12))\n",
    "fig.subplots_adjust(top=1.3)\n",
    "count = 0\n",
    "for row in range(3):\n",
    "    for col in range(2):\n",
    "        sb.boxplot(data=walmart, y='Purchase', x=attr[count], ax=axs[row, col],)\n",
    "        axs[row,col].set_title(f\"Purchase vs {attr[count]}\")\n",
    "        count += 1\n",
    "plt.show()\n",
    "\n",
    "plt.figure(figsize=(12,6))\n",
    "sb.boxplot(data=walmart, y='Purchase', x='Product_Category')\n",
    "plt.show()"
   ]
  },
  {
   "cell_type": "markdown",
   "id": "5582fb3c",
   "metadata": {
    "id": "5582fb3c"
   },
   "source": [
    "Observations:\n",
    "    \n",
    "    1. The spending behaviour for males and females are similar as we had seen from the above histplot. Males purchasing value are in the little higher range than females.\n",
    "    2. Among differnt age categories, we see similar purchase behaviour. For all age groups, most of the purchases are of the values between 5k to 12k with all having some outliers.\n",
    "    3. Among different occupations as well, we see similar purchasing behaviour in terms of the purchase values, with respective outliers.\n",
    "    4. Similarly for City category, stay in current city years, marital status - we see the users spends mostly in the range of 5k to 12k.\n",
    "    5. We see variations among product categories. Product category 10 products are the costliest ones. Also, there are few outliers for some of the product categories."
   ]
  },
  {
   "cell_type": "markdown",
   "id": "b14756a5",
   "metadata": {
    "id": "b14756a5"
   },
   "source": [
    "Multivariate analysis:"
   ]
  },
  {
   "cell_type": "code",
   "execution_count": 190,
   "id": "feed6995",
   "metadata": {
    "id": "feed6995",
    "outputId": "60af3ace-32e5-4457-93e0-75ffb9f6d445"
   },
   "outputs": [
    {
     "data": {
      "image/png": "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\n",
      "text/plain": [
       "<Figure size 1440x720 with 4 Axes>"
      ]
     },
     "metadata": {
      "needs_background": "light"
     },
     "output_type": "display_data"
    }
   ],
   "source": [
    "fig, axs = plt.subplots(nrows=2, ncols=2, figsize=(20, 10))\n",
    "fig.subplots_adjust(top=1.5)\n",
    "\n",
    "sb.boxplot(data=walmart, y='Purchase', x='Gender', hue='Age', ax=axs[0,0])\n",
    "sb.boxplot(data=walmart, y='Purchase', x='Gender', hue='City_Category', ax=axs[0,1])\n",
    "\n",
    "sb.boxplot(data=walmart, y='Purchase', x='Gender', hue='Marital_Status', ax=axs[1,0])\n",
    "sb.boxplot(data=walmart, y='Purchase', x='Gender', hue='Stay_In_Current_City_Years', ax=axs[1,1])\n",
    "\n",
    "plt.tight_layout()\n",
    "plt.show()"
   ]
  },
  {
   "cell_type": "markdown",
   "id": "d98e3f95",
   "metadata": {
    "id": "d98e3f95"
   },
   "source": [
    "Observations:\n",
    "        \n",
    "    1. The purchasing pattern is very much similar for males and females even among different age groups.\n",
    "    2. The purchasing behaviour of males and females basis different city categories is also similar in nature. Still, males from city category C tend to purchase costlier products in comparison to females.\n",
    "    3. Males and females spending behaviour remains similar even when we take into account their marital status.\n",
    "    4. Purchase values are similar for males and females basis Stay_in_current_city_years. Although, Males buy slightly high value products, especially males who stay in their current cities for 2 years."
   ]
  },
  {
   "cell_type": "markdown",
   "id": "9891a6e3",
   "metadata": {
    "id": "9891a6e3"
   },
   "source": [
    "Correlation between categorical variables:"
   ]
  },
  {
   "cell_type": "code",
   "execution_count": 192,
   "id": "033bd4cd",
   "metadata": {
    "id": "033bd4cd",
    "outputId": "b39875c8-98a1-498f-b907-6cb0b627c397"
   },
   "outputs": [
    {
     "data": {
      "image/png": "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\n",
      "text/plain": [
       "<Figure size 432x288 with 2 Axes>"
      ]
     },
     "metadata": {
      "needs_background": "light"
     },
     "output_type": "display_data"
    }
   ],
   "source": [
    "wlmrt = pd.read_csv('walmart_data.txt')\n",
    "sb.heatmap(wlmrt.corr(), annot=True, cmap=\"Blues\", linewidth=.5)\n",
    "plt.show()"
   ]
  },
  {
   "cell_type": "markdown",
   "id": "e5d3ad89",
   "metadata": {
    "id": "e5d3ad89"
   },
   "source": [
    "Observations:\n",
    "    \n",
    "    1. From the above correlation plot, we can see the correlation is not significant between any pair of variables."
   ]
  },
  {
   "cell_type": "markdown",
   "id": "e3e7eb37",
   "metadata": {
    "id": "e3e7eb37"
   },
   "source": [
    "Average amount spent per males and females:"
   ]
  },
  {
   "cell_type": "code",
   "execution_count": 205,
   "id": "8a179726",
   "metadata": {
    "id": "8a179726",
    "outputId": "c4189433-42b3-4ada-b356-eb56e2b4d849"
   },
   "outputs": [
    {
     "data": {
      "text/html": [
       "<div>\n",
       "<style scoped>\n",
       "    .dataframe tbody tr th:only-of-type {\n",
       "        vertical-align: middle;\n",
       "    }\n",
       "\n",
       "    .dataframe tbody tr th {\n",
       "        vertical-align: top;\n",
       "    }\n",
       "\n",
       "    .dataframe thead th {\n",
       "        text-align: right;\n",
       "    }\n",
       "</style>\n",
       "<table border=\"1\" class=\"dataframe\">\n",
       "  <thead>\n",
       "    <tr style=\"text-align: right;\">\n",
       "      <th></th>\n",
       "      <th>User_ID</th>\n",
       "      <th>Gender</th>\n",
       "      <th>Purchase</th>\n",
       "    </tr>\n",
       "  </thead>\n",
       "  <tbody>\n",
       "    <tr>\n",
       "      <th>0</th>\n",
       "      <td>1000001</td>\n",
       "      <td>F</td>\n",
       "      <td>334093</td>\n",
       "    </tr>\n",
       "    <tr>\n",
       "      <th>1</th>\n",
       "      <td>1000002</td>\n",
       "      <td>M</td>\n",
       "      <td>810472</td>\n",
       "    </tr>\n",
       "    <tr>\n",
       "      <th>2</th>\n",
       "      <td>1000003</td>\n",
       "      <td>M</td>\n",
       "      <td>341635</td>\n",
       "    </tr>\n",
       "    <tr>\n",
       "      <th>3</th>\n",
       "      <td>1000004</td>\n",
       "      <td>M</td>\n",
       "      <td>206468</td>\n",
       "    </tr>\n",
       "    <tr>\n",
       "      <th>4</th>\n",
       "      <td>1000005</td>\n",
       "      <td>M</td>\n",
       "      <td>821001</td>\n",
       "    </tr>\n",
       "    <tr>\n",
       "      <th>...</th>\n",
       "      <td>...</td>\n",
       "      <td>...</td>\n",
       "      <td>...</td>\n",
       "    </tr>\n",
       "    <tr>\n",
       "      <th>5886</th>\n",
       "      <td>1006036</td>\n",
       "      <td>F</td>\n",
       "      <td>4116058</td>\n",
       "    </tr>\n",
       "    <tr>\n",
       "      <th>5887</th>\n",
       "      <td>1006037</td>\n",
       "      <td>F</td>\n",
       "      <td>1119538</td>\n",
       "    </tr>\n",
       "    <tr>\n",
       "      <th>5888</th>\n",
       "      <td>1006038</td>\n",
       "      <td>F</td>\n",
       "      <td>90034</td>\n",
       "    </tr>\n",
       "    <tr>\n",
       "      <th>5889</th>\n",
       "      <td>1006039</td>\n",
       "      <td>F</td>\n",
       "      <td>590319</td>\n",
       "    </tr>\n",
       "    <tr>\n",
       "      <th>5890</th>\n",
       "      <td>1006040</td>\n",
       "      <td>M</td>\n",
       "      <td>1653299</td>\n",
       "    </tr>\n",
       "  </tbody>\n",
       "</table>\n",
       "<p>5891 rows × 3 columns</p>\n",
       "</div>"
      ],
      "text/plain": [
       "      User_ID Gender  Purchase\n",
       "0     1000001      F    334093\n",
       "1     1000002      M    810472\n",
       "2     1000003      M    341635\n",
       "3     1000004      M    206468\n",
       "4     1000005      M    821001\n",
       "...       ...    ...       ...\n",
       "5886  1006036      F   4116058\n",
       "5887  1006037      F   1119538\n",
       "5888  1006038      F     90034\n",
       "5889  1006039      F    590319\n",
       "5890  1006040      M   1653299\n",
       "\n",
       "[5891 rows x 3 columns]"
      ]
     },
     "execution_count": 205,
     "metadata": {},
     "output_type": "execute_result"
    }
   ],
   "source": [
    "avgamt_gender = walmart.groupby(['User_ID', 'Gender'],as_index=False,observed=True)['Purchase'].sum()\n",
    "# avgamt_gender = avgamt_gender.reset_index()\n",
    "avgamt_gender"
   ]
  },
  {
   "cell_type": "code",
   "execution_count": 206,
   "id": "31f1eeec",
   "metadata": {
    "id": "31f1eeec",
    "outputId": "346f57b8-91c5-4c19-940c-86723b79282b"
   },
   "outputs": [
    {
     "data": {
      "text/plain": [
       "M    4225\n",
       "F    1666\n",
       "Name: Gender, dtype: int64"
      ]
     },
     "execution_count": 206,
     "metadata": {},
     "output_type": "execute_result"
    }
   ],
   "source": [
    " # Gender wise count in the entire data\n",
    "avgamt_gender['Gender'].value_counts()"
   ]
  },
  {
   "cell_type": "code",
   "execution_count": 214,
   "id": "ba739166",
   "metadata": {
    "id": "ba739166",
    "outputId": "53660590-56d3-44b7-adcc-d236007cb3f3"
   },
   "outputs": [
    {
     "data": {
      "image/png": "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\n",
      "text/plain": [
       "<Figure size 1152x720 with 2 Axes>"
      ]
     },
     "metadata": {
      "needs_background": "light"
     },
     "output_type": "display_data"
    }
   ],
   "source": [
    "fig, axs = plt.subplots(nrows=2, ncols=1, figsize=(16,10))\n",
    "\n",
    "sb.histplot(data=avgamt_gender[avgamt_gender['Gender']=='F']['Purchase'], ax=axs[0]).set_title(\"Females Avg Spend\")\n",
    "plt.minorticks_on()\n",
    "\n",
    "sb.histplot(data=avgamt_gender[avgamt_gender['Gender']=='M']['Purchase'], ax=axs[1]).set_title(\"Males Avg Spend\")\n",
    "plt.minorticks_on()\n",
    "plt.tight_layout()\n",
    "plt.show()"
   ]
  },
  {
   "cell_type": "markdown",
   "id": "71bd199b",
   "metadata": {
    "id": "71bd199b"
   },
   "source": [
    "Observations:\n",
    "    \n",
    "    1. Average amount spend by males are higher than females."
   ]
  },
  {
   "cell_type": "code",
   "execution_count": 215,
   "id": "4d514699",
   "metadata": {
    "id": "4d514699",
    "outputId": "274fe2f4-5425-4457-826a-b1efdc26847a"
   },
   "outputs": [
    {
     "data": {
      "text/html": [
       "<div>\n",
       "<style scoped>\n",
       "    .dataframe tbody tr th:only-of-type {\n",
       "        vertical-align: middle;\n",
       "    }\n",
       "\n",
       "    .dataframe tbody tr th {\n",
       "        vertical-align: top;\n",
       "    }\n",
       "\n",
       "    .dataframe thead th {\n",
       "        text-align: right;\n",
       "    }\n",
       "</style>\n",
       "<table border=\"1\" class=\"dataframe\">\n",
       "  <thead>\n",
       "    <tr style=\"text-align: right;\">\n",
       "      <th></th>\n",
       "      <th>Purchase</th>\n",
       "    </tr>\n",
       "    <tr>\n",
       "      <th>Gender</th>\n",
       "      <th></th>\n",
       "    </tr>\n",
       "  </thead>\n",
       "  <tbody>\n",
       "    <tr>\n",
       "      <th>F</th>\n",
       "      <td>712024.394958</td>\n",
       "    </tr>\n",
       "    <tr>\n",
       "      <th>M</th>\n",
       "      <td>925344.402367</td>\n",
       "    </tr>\n",
       "  </tbody>\n",
       "</table>\n",
       "</div>"
      ],
      "text/plain": [
       "             Purchase\n",
       "Gender               \n",
       "F       712024.394958\n",
       "M       925344.402367"
      ]
     },
     "execution_count": 215,
     "metadata": {},
     "output_type": "execute_result"
    }
   ],
   "source": [
    "avgamt_gender.groupby(['Gender'])[['Purchase']].mean()"
   ]
  },
  {
   "cell_type": "code",
   "execution_count": 216,
   "id": "26940cb7",
   "metadata": {
    "id": "26940cb7",
    "outputId": "e7189899-85b6-40f6-89fc-68876491aa48"
   },
   "outputs": [
    {
     "data": {
      "text/plain": [
       "Gender\n",
       "F    1186232642\n",
       "M    3909580100\n",
       "Name: Purchase, dtype: int64"
      ]
     },
     "execution_count": 216,
     "metadata": {},
     "output_type": "execute_result"
    }
   ],
   "source": [
    "avgamt_gender.groupby(['Gender'])['Purchase'].sum()"
   ]
  },
  {
   "cell_type": "markdown",
   "id": "622720e8",
   "metadata": {
    "id": "622720e8"
   },
   "source": [
    "Observations:\n",
    "    \n",
    "    1. Average amount for the males is 925344 for the entire population whereas it's much lesser for females(712024).\n",
    "    2. Total amount spend by males is around 4 billion whereas for females it's 1.2 billion.   "
   ]
  },
  {
   "cell_type": "code",
   "execution_count": 217,
   "id": "4d2b73db",
   "metadata": {
    "id": "4d2b73db"
   },
   "outputs": [],
   "source": [
    "avgamt_male = avgamt_gender[avgamt_gender['Gender']=='M']\n",
    "avgamt_female = avgamt_gender[avgamt_gender['Gender']=='F']"
   ]
  },
  {
   "cell_type": "code",
   "execution_count": 225,
   "id": "40aba718",
   "metadata": {
    "id": "40aba718"
   },
   "outputs": [],
   "source": [
    "#Finding the sample(sample size=1000) for avg purchase amount for males and females\n",
    "genders = [\"M\", \"F\"]\n",
    "\n",
    "sample_size = 1000\n",
    "\n",
    "num_repeatitions = 1000\n",
    "male_means = []\n",
    "female_means = []\n",
    "\n",
    "for i in range(num_repeatitions):\n",
    "    male_mean = avgamt_male.sample(sample_size, replace=True)['Purchase'].mean()\n",
    "    female_mean = avgamt_female.sample(sample_size, replace=True)['Purchase'].mean()\n",
    "\n",
    "    male_means.append(male_mean)\n",
    "    female_means.append(female_mean)\n"
   ]
  },
  {
   "cell_type": "code",
   "execution_count": 226,
   "id": "962cb404",
   "metadata": {
    "id": "962cb404",
    "outputId": "0e34d94f-5e96-4c09-f068-0dc05f539e65"
   },
   "outputs": [
    {
     "data": {
      "image/png": "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\n",
      "text/plain": [
       "<Figure size 1440x432 with 2 Axes>"
      ]
     },
     "metadata": {
      "needs_background": "light"
     },
     "output_type": "display_data"
    }
   ],
   "source": [
    "fig, axis = plt.subplots(nrows=1, ncols=2, figsize=(20, 6))\n",
    "\n",
    "axis[0].hist(male_means, bins=35)\n",
    "axis[1].hist(female_means, bins=35)\n",
    "axis[0].set_title(\"Male distribution of means, Sample size: 1000\")\n",
    "axis[1].set_title(\"Female distribution of means, Sample size: 1000\")\n",
    "\n",
    "plt.show()"
   ]
  },
  {
   "cell_type": "markdown",
   "id": "dc6a52f2",
   "metadata": {
    "id": "dc6a52f2"
   },
   "source": [
    "Observations:\n",
    "    \n",
    "    1. The means sample seems to be normally distributed for both males and females. Also, we can see the mean of the sample means are closer to the population mean as per central limit theorem."
   ]
  },
  {
   "cell_type": "markdown",
   "id": "98074d92",
   "metadata": {
    "id": "98074d92"
   },
   "source": [
    "Calculating 90% confidence interval for sample size 1000:"
   ]
  },
  {
   "cell_type": "code",
   "execution_count": 227,
   "id": "f03cff68",
   "metadata": {
    "id": "f03cff68",
    "outputId": "8f2e0383-478c-4224-ecdf-67c027fc3aba"
   },
   "outputs": [
    {
     "name": "stdout",
     "output_type": "stream",
     "text": [
      "Population avg spend amount for Male: 925344.40\n",
      "Population avg spend amount for Female: 712024.39\n",
      "\n",
      "Sample avg spend amount for Male: 925125.69\n",
      "Sample avg spend amount for Female: 712779.64\n",
      "\n",
      "Sample std for Male: 31553.83\n",
      "Sample std for Female: 25821.28\n",
      "\n",
      "Sample std error for Male: 997.82\n",
      "Sample std error for Female: 816.54\n",
      "\n",
      "Male_CI:  [923484.2754662945, 926767.1023357057]\n",
      "Female_CI:  [711436.4349889208, 714122.8536070792]\n"
     ]
    }
   ],
   "source": [
    "#Taking the values for z at 90%confidence interval as:\n",
    "z90=1.645 #90% Confidence Interval\n",
    "\n",
    "print(\"Population avg spend amount for Male: {:.2f}\".format(avgamt_male['Purchase'].mean()))\n",
    "print(\"Population avg spend amount for Female: {:.2f}\\n\".format(avgamt_female['Purchase'].mean()))\n",
    "\n",
    "print(\"Sample avg spend amount for Male: {:.2f}\".format(np.mean(male_means)))\n",
    "print(\"Sample avg spend amount for Female: {:.2f}\\n\".format(np.mean(female_means)))\n",
    "\n",
    "print(\"Sample std for Male: {:.2f}\".format(pd.Series(male_means).std()))\n",
    "print(\"Sample std for Female: {:.2f}\\n\".format(pd.Series(female_means).std()))\n",
    "\n",
    "print(\"Sample std error for Male: {:.2f}\".format(pd.Series(male_means).std()/np.sqrt(1000)))\n",
    "print(\"Sample std error for Female: {:.2f}\\n\".format(pd.Series(female_means).std()/np.sqrt(1000)))\n",
    "\n",
    "sample_mean_male=np.mean(male_means)\n",
    "sample_mean_female=np.mean(female_means)\n",
    "\n",
    "sample_std_male=pd.Series(male_means).std()\n",
    "sample_std_female=pd.Series(female_means).std()\n",
    "\n",
    "sample_std_error_male=sample_std_male/np.sqrt(1000)\n",
    "sample_std_error_female=sample_std_female/np.sqrt(1000)\n",
    "\n",
    "Upper_Limit_male=z90*sample_std_error_male + sample_mean_male\n",
    "Lower_Limit_male=sample_mean_male - z90*sample_std_error_male\n",
    "\n",
    "Upper_Limit_female=z90*sample_std_error_female + sample_mean_female\n",
    "Lower_Limit_female=sample_mean_female - z90*sample_std_error_female\n",
    "\n",
    "print(\"Male_CI: \",[Lower_Limit_male,Upper_Limit_male])\n",
    "print(\"Female_CI: \",[Lower_Limit_female,Upper_Limit_female])\n"
   ]
  },
  {
   "cell_type": "markdown",
   "id": "c3303606",
   "metadata": {
    "id": "c3303606"
   },
   "source": [
    "Observation:\n",
    "\n",
    "Now using the Confidence interval at 90%, we can say that:\n",
    "\n",
    "Average amount spend by male customers lie in the range 9,22,940.71 - 9,26,225.18\n",
    "\n",
    "Average amount spend by female customers lie in range 7,10,425.64 - 7,13,064.55"
   ]
  },
  {
   "cell_type": "markdown",
   "id": "850343e2",
   "metadata": {
    "id": "850343e2"
   },
   "source": [
    "Calculating 95% confidence interval for sample size 1000:"
   ]
  },
  {
   "cell_type": "code",
   "execution_count": 228,
   "id": "312d3049",
   "metadata": {
    "id": "312d3049",
    "outputId": "9887ca6b-b50b-4c8e-dba6-5583f0a6fd66"
   },
   "outputs": [
    {
     "name": "stdout",
     "output_type": "stream",
     "text": [
      "Population avg spend amount for Male: 925344.40\n",
      "Population avg spend amount for Female: 712024.39\n",
      "\n",
      "Sample avg spend amount for Male: 925125.69\n",
      "Sample avg spend amount for Female: 712779.64\n",
      "\n",
      "Sample std for Male: 31553.83\n",
      "Sample std for Female: 25821.28\n",
      "\n",
      "Sample std error for Male: 997.82\n",
      "Sample std error for Female: 816.54\n",
      "\n",
      "Male_CI:  [923169.9622553934, 927081.4155466068]\n",
      "Female_CI:  [711179.2246956929, 714380.0639003072]\n"
     ]
    }
   ],
   "source": [
    "#Taking the values for z 95% confidence interval as:\n",
    "z95=1.960 #95% Confidence Interval\n",
    "\n",
    "print(\"Population avg spend amount for Male: {:.2f}\".format(avgamt_male['Purchase'].mean()))\n",
    "print(\"Population avg spend amount for Female: {:.2f}\\n\".format(avgamt_female['Purchase'].mean()))\n",
    "\n",
    "print(\"Sample avg spend amount for Male: {:.2f}\".format(np.mean(male_means)))\n",
    "print(\"Sample avg spend amount for Female: {:.2f}\\n\".format(np.mean(female_means)))\n",
    "\n",
    "print(\"Sample std for Male: {:.2f}\".format(pd.Series(male_means).std()))\n",
    "print(\"Sample std for Female: {:.2f}\\n\".format(pd.Series(female_means).std()))\n",
    "\n",
    "print(\"Sample std error for Male: {:.2f}\".format(pd.Series(male_means).std()/np.sqrt(1000)))\n",
    "print(\"Sample std error for Female: {:.2f}\\n\".format(pd.Series(female_means).std()/np.sqrt(1000)))\n",
    "\n",
    "sample_mean_male=np.mean(male_means)\n",
    "sample_mean_female=np.mean(female_means)\n",
    "\n",
    "sample_std_male=pd.Series(male_means).std()\n",
    "sample_std_female=pd.Series(female_means).std()\n",
    "\n",
    "sample_std_error_male=sample_std_male/np.sqrt(1000)\n",
    "sample_std_error_female=sample_std_female/np.sqrt(1000)\n",
    "\n",
    "Upper_Limit_male=z95*sample_std_error_male + sample_mean_male\n",
    "Lower_Limit_male=sample_mean_male - z95*sample_std_error_male\n",
    "\n",
    "Upper_Limit_female=z95*sample_std_error_female + sample_mean_female\n",
    "Lower_Limit_female=sample_mean_female - z95*sample_std_error_female\n",
    "\n",
    "print(\"Male_CI: \",[Lower_Limit_male,Upper_Limit_male])\n",
    "print(\"Female_CI: \",[Lower_Limit_female,Upper_Limit_female])\n"
   ]
  },
  {
   "cell_type": "markdown",
   "id": "c4a2d06f",
   "metadata": {
    "id": "c4a2d06f"
   },
   "source": [
    "Observation:\n",
    "\n",
    "Now using the Confidence interval at 95%, we can say that:\n",
    "\n",
    "Average amount spend by male customers lie in the range 9,22,626.24 - 9,26,539.65\n",
    "\n",
    "Average amount spend by female customers lie in range 7,10,172.98 - 7,13,317.21"
   ]
  },
  {
   "cell_type": "markdown",
   "id": "f801bcc2",
   "metadata": {
    "id": "f801bcc2"
   },
   "source": [
    "Calculating 99% confidence interval for sample size 1000:"
   ]
  },
  {
   "cell_type": "code",
   "execution_count": 229,
   "id": "804e1b21",
   "metadata": {
    "id": "804e1b21",
    "outputId": "7f970b9a-898b-434c-a7a5-1641f2c7207f"
   },
   "outputs": [
    {
     "name": "stdout",
     "output_type": "stream",
     "text": [
      "Population avg spend amount for Male: 925344.40\n",
      "Population avg spend amount for Female: 712024.39\n",
      "\n",
      "Sample avg spend amount for Male: 925125.69\n",
      "Sample avg spend amount for Female: 712779.64\n",
      "\n",
      "Sample std for Male: 31553.83\n",
      "Sample std for Female: 25821.28\n",
      "\n",
      "Sample std error for Male: 997.82\n",
      "Sample std error for Female: 816.54\n",
      "\n",
      "Male_CI:  [922555.3053096313, 927696.0724923689]\n",
      "Female_CI:  [710676.2356778248, 714883.0529181752]\n"
     ]
    }
   ],
   "source": [
    "#Taking the values for z at 99% confidence interval as:\n",
    "z99=2.576 #99% Confidence Interval\n",
    "\n",
    "print(\"Population avg spend amount for Male: {:.2f}\".format(avgamt_male['Purchase'].mean()))\n",
    "print(\"Population avg spend amount for Female: {:.2f}\\n\".format(avgamt_female['Purchase'].mean()))\n",
    "\n",
    "print(\"Sample avg spend amount for Male: {:.2f}\".format(np.mean(male_means)))\n",
    "print(\"Sample avg spend amount for Female: {:.2f}\\n\".format(np.mean(female_means)))\n",
    "\n",
    "print(\"Sample std for Male: {:.2f}\".format(pd.Series(male_means).std()))\n",
    "print(\"Sample std for Female: {:.2f}\\n\".format(pd.Series(female_means).std()))\n",
    "\n",
    "print(\"Sample std error for Male: {:.2f}\".format(pd.Series(male_means).std()/np.sqrt(1000)))\n",
    "print(\"Sample std error for Female: {:.2f}\\n\".format(pd.Series(female_means).std()/np.sqrt(1000)))\n",
    "\n",
    "sample_mean_male=np.mean(male_means)\n",
    "sample_mean_female=np.mean(female_means)\n",
    "\n",
    "sample_std_male=pd.Series(male_means).std()\n",
    "sample_std_female=pd.Series(female_means).std()\n",
    "\n",
    "sample_std_error_male=sample_std_male/np.sqrt(1000)\n",
    "sample_std_error_female=sample_std_female/np.sqrt(1000)\n",
    "\n",
    "Upper_Limit_male=z99*sample_std_error_male + sample_mean_male\n",
    "Lower_Limit_male=sample_mean_male - z99*sample_std_error_male\n",
    "\n",
    "Upper_Limit_female=z99*sample_std_error_female + sample_mean_female\n",
    "Lower_Limit_female=sample_mean_female - z99*sample_std_error_female\n",
    "\n",
    "print(\"Male_CI: \",[Lower_Limit_male,Upper_Limit_male])\n",
    "print(\"Female_CI: \",[Lower_Limit_female,Upper_Limit_female])\n"
   ]
  },
  {
   "cell_type": "markdown",
   "id": "851e1617",
   "metadata": {
    "id": "851e1617"
   },
   "source": [
    "Observation:\n",
    "\n",
    "Now using the Confidence interval at 99%, we can say that:\n",
    "\n",
    "Average amount spend by male customers lie in the range 9,22,011.28 - 9,27,154.61\n",
    "\n",
    "Average amount spend by female customers lie in range 7,09,678.88 - 7,13,811.31"
   ]
  },
  {
   "cell_type": "markdown",
   "id": "5a28aa11",
   "metadata": {
    "id": "5a28aa11"
   },
   "source": [
    "Calculating 90% confidence interval for sample size 1500:"
   ]
  },
  {
   "cell_type": "code",
   "execution_count": null,
   "id": "c8b0430e",
   "metadata": {
    "id": "c8b0430e",
    "outputId": "9dd3de81-b09a-47a2-8af9-47b9b8c5b281"
   },
   "outputs": [
    {
     "name": "stdout",
     "output_type": "stream",
     "text": [
      "Population avg spend amount for Male: 925344.40\n",
      "Population avg spend amount for Female: 712024.39\n",
      "\n",
      "Sample avg spend amount for Male: 925248.16\n",
      "Sample avg spend amount for Female: 712079.47\n",
      "\n",
      "Sample std for Male: 25209.48\n",
      "Sample std for Female: 21005.90\n",
      "\n",
      "Sample std error for Male: 650.91\n",
      "Sample std error for Female: 542.37\n",
      "\n",
      "Male_CI:  [924177.4154154606, 926318.8960552063]\n",
      "Female_CI:  [711187.2675015299, 712971.6650158035]\n"
     ]
    }
   ],
   "source": [
    "#Finding the sample(sample size=1000) avg purchase amount for males and females\n",
    "genders = [\"M\", \"F\"]\n",
    "\n",
    "sample_size = 1500\n",
    "\n",
    "num_repeatitions = 1000\n",
    "male_means = []\n",
    "female_means = []\n",
    "\n",
    "for i in range(num_repitions):\n",
    "    male_mean = avgamt_male.sample(sample_size, replace=True)['Purchase'].mean()\n",
    "    female_mean = avgamt_female.sample(sample_size, replace=True)['Purchase'].mean()\n",
    "\n",
    "    male_means.append(male_mean)\n",
    "    female_means.append(female_mean)\n",
    "\n",
    "#Taking the values for z at 90%, 95% and 99% confidence interval as:\n",
    "z90=1.645 #90% Confidence Interval\n",
    "z95=1.960 #95% Confidence Interval\n",
    "z99=2.576 #99% Confidence Interval\n",
    "\n",
    "print(\"Population avg spend amount for Male: {:.2f}\".format(avgamt_male['Purchase'].mean()))\n",
    "print(\"Population avg spend amount for Female: {:.2f}\\n\".format(avgamt_female['Purchase'].mean()))\n",
    "\n",
    "print(\"Sample avg spend amount for Male: {:.2f}\".format(np.mean(male_means)))\n",
    "print(\"Sample avg spend amount for Female: {:.2f}\\n\".format(np.mean(female_means)))\n",
    "\n",
    "print(\"Sample std for Male: {:.2f}\".format(pd.Series(male_means).std()))\n",
    "print(\"Sample std for Female: {:.2f}\\n\".format(pd.Series(female_means).std()))\n",
    "\n",
    "print(\"Sample std error for Male: {:.2f}\".format(pd.Series(male_means).std()/np.sqrt(1500)))\n",
    "print(\"Sample std error for Female: {:.2f}\\n\".format(pd.Series(female_means).std()/np.sqrt(1500)))\n",
    "\n",
    "sample_mean_male=np.mean(male_means)\n",
    "sample_mean_female=np.mean(female_means)\n",
    "\n",
    "sample_std_male=pd.Series(male_means).std()\n",
    "sample_std_female=pd.Series(female_means).std()\n",
    "\n",
    "sample_std_error_male=sample_std_male/np.sqrt(1500)\n",
    "sample_std_error_female=sample_std_female/np.sqrt(1500)\n",
    "\n",
    "Upper_Limit_male=z90*sample_std_error_male + sample_mean_male\n",
    "Lower_Limit_male=sample_mean_male - z90*sample_std_error_male\n",
    "\n",
    "Upper_Limit_female=z90*sample_std_error_female + sample_mean_female\n",
    "Lower_Limit_female=sample_mean_female - z90*sample_std_error_female\n",
    "\n",
    "print(\"Male_CI: \",[Lower_Limit_male,Upper_Limit_male])\n",
    "print(\"Female_CI: \",[Lower_Limit_female,Upper_Limit_female])"
   ]
  },
  {
   "cell_type": "markdown",
   "id": "3593fcd4",
   "metadata": {
    "id": "3593fcd4"
   },
   "source": [
    "Observation:\n",
    "\n",
    "Now using the Confidence interval at 90%, we can say that:\n",
    "\n",
    "Average amount spend by male customers lie in the range 9,24,177.41 - 9,26,318.90\n",
    "\n",
    "Average amount spend by female customers lie in range 7,11,187.27 - 7,12,971.67\n",
    "\n",
    "By increasing the sample size we can see confidence interval is more closer to the population mean."
   ]
  },
  {
   "cell_type": "markdown",
   "id": "ce6f9e46",
   "metadata": {
    "id": "ce6f9e46"
   },
   "source": [
    "Calculating 95% confidence interval for sample size 1500:"
   ]
  },
  {
   "cell_type": "code",
   "execution_count": null,
   "id": "19ffa97a",
   "metadata": {
    "id": "19ffa97a",
    "outputId": "21ce3fbf-fa7a-4464-d7d1-d6ae37ef1189"
   },
   "outputs": [
    {
     "name": "stdout",
     "output_type": "stream",
     "text": [
      "Population avg spend amount for Male: 925344.40\n",
      "Population avg spend amount for Female: 712024.39\n",
      "\n",
      "Sample avg spend amount for Male: 925248.16\n",
      "Sample avg spend amount for Female: 712079.47\n",
      "\n",
      "Sample std for Male: 25209.48\n",
      "Sample std for Female: 21005.90\n",
      "\n",
      "Sample std error for Male: 650.91\n",
      "Sample std error for Female: 542.37\n",
      "\n",
      "Male_CI:  [923972.3800350594, 926523.9314356075]\n",
      "Female_CI:  [711016.4209310142, 713142.5115863192]\n"
     ]
    }
   ],
   "source": [
    "print(\"Population avg spend amount for Male: {:.2f}\".format(avgamt_male['Purchase'].mean()))\n",
    "print(\"Population avg spend amount for Female: {:.2f}\\n\".format(avgamt_female['Purchase'].mean()))\n",
    "\n",
    "print(\"Sample avg spend amount for Male: {:.2f}\".format(np.mean(male_means)))\n",
    "print(\"Sample avg spend amount for Female: {:.2f}\\n\".format(np.mean(female_means)))\n",
    "\n",
    "print(\"Sample std for Male: {:.2f}\".format(pd.Series(male_means).std()))\n",
    "print(\"Sample std for Female: {:.2f}\\n\".format(pd.Series(female_means).std()))\n",
    "\n",
    "print(\"Sample std error for Male: {:.2f}\".format(pd.Series(male_means).std()/np.sqrt(1500)))\n",
    "print(\"Sample std error for Female: {:.2f}\\n\".format(pd.Series(female_means).std()/np.sqrt(1500)))\n",
    "\n",
    "sample_mean_male=np.mean(male_means)\n",
    "sample_mean_female=np.mean(female_means)\n",
    "\n",
    "sample_std_male=pd.Series(male_means).std()\n",
    "sample_std_female=pd.Series(female_means).std()\n",
    "\n",
    "sample_std_error_male=sample_std_male/np.sqrt(1500)\n",
    "sample_std_error_female=sample_std_female/np.sqrt(1500)\n",
    "\n",
    "Upper_Limit_male=z95*sample_std_error_male + sample_mean_male\n",
    "Lower_Limit_male=sample_mean_male - z95*sample_std_error_male\n",
    "\n",
    "Upper_Limit_female=z95*sample_std_error_female + sample_mean_female\n",
    "Lower_Limit_female=sample_mean_female - z95*sample_std_error_female\n",
    "\n",
    "print(\"Male_CI: \",[Lower_Limit_male,Upper_Limit_male])\n",
    "print(\"Female_CI: \",[Lower_Limit_female,Upper_Limit_female])"
   ]
  },
  {
   "cell_type": "markdown",
   "id": "30eb85a4",
   "metadata": {
    "id": "30eb85a4"
   },
   "source": [
    "Observation:\n",
    "\n",
    "Now using the Confidence interval at 95%, we can say that:\n",
    "\n",
    "Average amount spend by male customers lie in the range 9,23,972.41 - 9,26,523.93\n",
    "\n",
    "Average amount spend by female customers lie in range 7,11,016.42 - 7,13,142.51\n",
    "\n",
    "By increasing the sample size we can see confidence interval is more closer to the population mean."
   ]
  },
  {
   "cell_type": "markdown",
   "id": "69cea914",
   "metadata": {
    "id": "69cea914"
   },
   "source": [
    "Calculating 99% confidence interval for sample size 1500:"
   ]
  },
  {
   "cell_type": "code",
   "execution_count": null,
   "id": "53ab83a1",
   "metadata": {
    "id": "53ab83a1",
    "outputId": "5fe8b22c-b696-4dde-9a56-9a218bd7337e"
   },
   "outputs": [
    {
     "name": "stdout",
     "output_type": "stream",
     "text": [
      "Population avg spend amount for Male: 925344.40\n",
      "Population avg spend amount for Female: 712024.39\n",
      "\n",
      "Sample avg spend amount for Male: 925248.16\n",
      "Sample avg spend amount for Female: 712079.47\n",
      "\n",
      "Sample std for Male: 25209.48\n",
      "Sample std for Female: 21005.90\n",
      "\n",
      "Sample std error for Male: 650.91\n",
      "Sample std error for Female: 542.37\n",
      "\n",
      "Male_CI:  [923571.4219578304, 926924.8895128365]\n",
      "Female_CI:  [710682.3209708949, 713476.6115464385]\n"
     ]
    }
   ],
   "source": [
    "print(\"Population avg spend amount for Male: {:.2f}\".format(avgamt_male['Purchase'].mean()))\n",
    "print(\"Population avg spend amount for Female: {:.2f}\\n\".format(avgamt_female['Purchase'].mean()))\n",
    "\n",
    "print(\"Sample avg spend amount for Male: {:.2f}\".format(np.mean(male_means)))\n",
    "print(\"Sample avg spend amount for Female: {:.2f}\\n\".format(np.mean(female_means)))\n",
    "\n",
    "print(\"Sample std for Male: {:.2f}\".format(pd.Series(male_means).std()))\n",
    "print(\"Sample std for Female: {:.2f}\\n\".format(pd.Series(female_means).std()))\n",
    "\n",
    "print(\"Sample std error for Male: {:.2f}\".format(pd.Series(male_means).std()/np.sqrt(1500)))\n",
    "print(\"Sample std error for Female: {:.2f}\\n\".format(pd.Series(female_means).std()/np.sqrt(1500)))\n",
    "\n",
    "sample_mean_male=np.mean(male_means)\n",
    "sample_mean_female=np.mean(female_means)\n",
    "\n",
    "sample_std_male=pd.Series(male_means).std()\n",
    "sample_std_female=pd.Series(female_means).std()\n",
    "\n",
    "sample_std_error_male=sample_std_male/np.sqrt(1500)\n",
    "sample_std_error_female=sample_std_female/np.sqrt(1500)\n",
    "\n",
    "Upper_Limit_male=z99*sample_std_error_male + sample_mean_male\n",
    "Lower_Limit_male=sample_mean_male - z99*sample_std_error_male\n",
    "\n",
    "Upper_Limit_female=z99*sample_std_error_female + sample_mean_female\n",
    "Lower_Limit_female=sample_mean_female - z99*sample_std_error_female\n",
    "\n",
    "print(\"Male_CI: \",[Lower_Limit_male,Upper_Limit_male])\n",
    "print(\"Female_CI: \",[Lower_Limit_female,Upper_Limit_female])"
   ]
  },
  {
   "cell_type": "markdown",
   "id": "375ad7c5",
   "metadata": {
    "id": "375ad7c5"
   },
   "source": [
    "Observation:\n",
    "\n",
    "Now using the Confidence interval at 99%, we can say that:\n",
    "\n",
    "Average amount spend by male customers lie in the range 923571.42 - 926924.89\n",
    "\n",
    "Average amount spend by female customers lie in range 710682.32 - 713476.61\n",
    "\n",
    "By increasing the sample size we can see confidence interval is more closer to the population mean."
   ]
  },
  {
   "cell_type": "markdown",
   "id": "98054459",
   "metadata": {
    "id": "98054459"
   },
   "source": [
    "CLT and Confidence interval considering marital status:"
   ]
  },
  {
   "cell_type": "code",
   "execution_count": 230,
   "id": "55f9896d",
   "metadata": {
    "id": "55f9896d",
    "outputId": "4566ee9b-0269-44c3-cf8d-f50c7169bd18"
   },
   "outputs": [
    {
     "data": {
      "image/png": "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\n",
      "text/plain": [
       "<Figure size 1440x432 with 2 Axes>"
      ]
     },
     "metadata": {
      "needs_background": "light"
     },
     "output_type": "display_data"
    }
   ],
   "source": [
    "avg_Marital = walmart.groupby(['User_ID', 'Marital_Status'],observed=True)[['Purchase']].sum()\n",
    "avg_Marital = avg_Marital.reset_index()\n",
    "\n",
    "avgamt_married = avg_Marital[avg_Marital['Marital_Status']==1]\n",
    "avgamt_single = avg_Marital[avg_Marital['Marital_Status']==0]\n",
    "\n",
    "sample_size = 1000\n",
    "num_repeatitions = 1000\n",
    "married_means = []\n",
    "single_means = []\n",
    "\n",
    "for i in range(num_repeatitions):\n",
    "    avg_married = avg_Marital[avg_Marital['Marital_Status']==1].sample(sample_size, replace=True)['Purchase'].mean()\n",
    "    avg_single = avg_Marital[avg_Marital['Marital_Status']==0].sample(sample_size, replace=True)['Purchase'].mean()\n",
    "\n",
    "    married_means.append(avg_married)\n",
    "    single_means.append(avg_single)\n",
    "\n",
    "\n",
    "fig, axis = plt.subplots(nrows=1, ncols=2, figsize=(20, 6))\n",
    "\n",
    "axis[0].hist(married_means, bins=35)\n",
    "axis[1].hist(single_means, bins=35)\n",
    "axis[0].set_title(\"Married distribution of means, Sample size: 1000\")\n",
    "axis[1].set_title(\"Unmarried distribution of means, Sample size: 1000\")\n",
    "\n",
    "plt.show()"
   ]
  },
  {
   "cell_type": "markdown",
   "id": "54639c9f",
   "metadata": {
    "id": "54639c9f"
   },
   "source": [
    "Observations:\n",
    "\n",
    "1. The means sample seems to be normally distributed for both married and singles. Also, we can see the mean of the sample means are closer to the population mean as per central limit theorem."
   ]
  },
  {
   "cell_type": "code",
   "execution_count": null,
   "id": "8b877971",
   "metadata": {
    "id": "8b877971",
    "outputId": "9314ec11-f1dd-4478-abf2-217e5663900a"
   },
   "outputs": [
    {
     "data": {
      "text/plain": [
       "0    3417\n",
       "1    2474\n",
       "Name: Marital_Status, dtype: int64"
      ]
     },
     "execution_count": 94,
     "metadata": {},
     "output_type": "execute_result"
    }
   ],
   "source": [
    "avg_Marital['Marital_Status'].value_counts()"
   ]
  },
  {
   "cell_type": "markdown",
   "id": "7fdba9c3",
   "metadata": {
    "id": "7fdba9c3"
   },
   "source": [
    "Calculating 90% confidence interval for avg expenses for married/single for sample size 1000:"
   ]
  },
  {
   "cell_type": "code",
   "execution_count": null,
   "id": "dba4e0d3",
   "metadata": {
    "id": "dba4e0d3",
    "outputId": "4879b72c-f8e8-4cc9-a1d8-26d59b441ec2"
   },
   "outputs": [
    {
     "name": "stdout",
     "output_type": "stream",
     "text": [
      "Population avg spend amount for Married: 843526.80\n",
      "Population avg spend amount for Single: 880575.78\n",
      "\n",
      "Sample avg spend amount for Married: 843401.41\n",
      "Sample avg spend amount for Single: 881586.01\n",
      "\n",
      "Sample std for Married: 28747.45\n",
      "Sample std for Single: 30599.76\n",
      "\n",
      "Sample std error for Married: 909.07\n",
      "Sample std error for Single: 967.65\n",
      "\n",
      "Married_CI:  [841905.9791311473, 844472.1467098729]\n",
      "Single_CI:  [879994.2306792004, 883177.7968027996]\n"
     ]
    }
   ],
   "source": [
    "#Taking the values for z at 90% confidence interval as:\n",
    "z90=1.645 #90% Confidence Interval\n",
    "\n",
    "print(\"Population avg spend amount for Married: {:.2f}\".format(avgamt_married['Purchase'].mean()))\n",
    "print(\"Population avg spend amount for Single: {:.2f}\\n\".format(avgamt_single['Purchase'].mean()))\n",
    "\n",
    "print(\"Sample avg spend amount for Married: {:.2f}\".format(np.mean(married_means)))\n",
    "print(\"Sample avg spend amount for Single: {:.2f}\\n\".format(np.mean(single_means)))\n",
    "\n",
    "print(\"Sample std for Married: {:.2f}\".format(pd.Series(married_means).std()))\n",
    "print(\"Sample std for Single: {:.2f}\\n\".format(pd.Series(single_means).std()))\n",
    "\n",
    "print(\"Sample std error for Married: {:.2f}\".format(pd.Series(married_means).std()/np.sqrt(1000)))\n",
    "print(\"Sample std error for Single: {:.2f}\\n\".format(pd.Series(single_means).std()/np.sqrt(1000)))\n",
    "\n",
    "sample_mean_married=np.mean(married_means)\n",
    "sample_mean_single=np.mean(single_means)\n",
    "\n",
    "sample_std_married=pd.Series(married_means).std()\n",
    "sample_std_single=pd.Series(single_means).std()\n",
    "\n",
    "sample_std_error_married=sample_std_married/np.sqrt(1000)\n",
    "sample_std_error_single=sample_std_single/np.sqrt(1000)\n",
    "\n",
    "Upper_Limit_married=z90*sample_std_error_male + sample_mean_married\n",
    "Lower_Limit_married=sample_mean_married - z90*sample_std_error_married\n",
    "\n",
    "Upper_Limit_single=z90*sample_std_error_single + sample_mean_single\n",
    "Lower_Limit_single=sample_mean_single - z90*sample_std_error_single\n",
    "\n",
    "print(\"Married_CI: \",[Lower_Limit_married,Upper_Limit_married])\n",
    "print(\"Single_CI: \",[Lower_Limit_single,Upper_Limit_single])\n"
   ]
  },
  {
   "cell_type": "markdown",
   "id": "964f165c",
   "metadata": {
    "id": "964f165c"
   },
   "source": [
    "Calculating 95% confidence interval for avg expenses for married/single for sample size 1000:"
   ]
  },
  {
   "cell_type": "code",
   "execution_count": null,
   "id": "0518e76e",
   "metadata": {
    "id": "0518e76e",
    "outputId": "5d8957b9-0160-4d1c-e9d7-ab1d74db5033"
   },
   "outputs": [
    {
     "name": "stdout",
     "output_type": "stream",
     "text": [
      "Population avg spend amount for Married: 843526.80\n",
      "Population avg spend amount for Single: 880575.78\n",
      "\n",
      "Sample avg spend amount for Married: 843401.41\n",
      "Sample avg spend amount for Single: 881586.01\n",
      "\n",
      "Sample std for Married: 28747.45\n",
      "Sample std for Single: 30599.76\n",
      "\n",
      "Sample std error for Married: 909.07\n",
      "Sample std error for Single: 967.65\n",
      "\n",
      "Married_CI:  [841619.6207198777, 844677.1820902741]\n",
      "Single_CI:  [879689.4211567282, 883482.6063252718]\n"
     ]
    }
   ],
   "source": [
    "#Taking the values for z at 95% confidence interval as:\n",
    "z95=1.960 #95% Confidence Interval\n",
    "\n",
    "\n",
    "print(\"Population avg spend amount for Married: {:.2f}\".format(avgamt_married['Purchase'].mean()))\n",
    "print(\"Population avg spend amount for Single: {:.2f}\\n\".format(avgamt_single['Purchase'].mean()))\n",
    "\n",
    "print(\"Sample avg spend amount for Married: {:.2f}\".format(np.mean(married_means)))\n",
    "print(\"Sample avg spend amount for Single: {:.2f}\\n\".format(np.mean(single_means)))\n",
    "\n",
    "print(\"Sample std for Married: {:.2f}\".format(pd.Series(married_means).std()))\n",
    "print(\"Sample std for Single: {:.2f}\\n\".format(pd.Series(single_means).std()))\n",
    "\n",
    "print(\"Sample std error for Married: {:.2f}\".format(pd.Series(married_means).std()/np.sqrt(1000)))\n",
    "print(\"Sample std error for Single: {:.2f}\\n\".format(pd.Series(single_means).std()/np.sqrt(1000)))\n",
    "\n",
    "sample_mean_married=np.mean(married_means)\n",
    "sample_mean_single=np.mean(single_means)\n",
    "\n",
    "sample_std_married=pd.Series(married_means).std()\n",
    "sample_std_single=pd.Series(single_means).std()\n",
    "\n",
    "sample_std_error_married=sample_std_married/np.sqrt(1000)\n",
    "sample_std_error_single=sample_std_single/np.sqrt(1000)\n",
    "\n",
    "Upper_Limit_married=z95*sample_std_error_male + sample_mean_married\n",
    "Lower_Limit_married=sample_mean_married - z95*sample_std_error_married\n",
    "\n",
    "Upper_Limit_single=z95*sample_std_error_single + sample_mean_single\n",
    "Lower_Limit_single=sample_mean_single - z95*sample_std_error_single\n",
    "\n",
    "print(\"Married_CI: \",[Lower_Limit_married,Upper_Limit_married])\n",
    "print(\"Single_CI: \",[Lower_Limit_single,Upper_Limit_single])"
   ]
  },
  {
   "cell_type": "markdown",
   "id": "0901b6cf",
   "metadata": {
    "id": "0901b6cf"
   },
   "source": [
    "Calculating 99% confidence interval for avg expenses for married/single for sample size 1000:"
   ]
  },
  {
   "cell_type": "code",
   "execution_count": null,
   "id": "2aa7a67a",
   "metadata": {
    "id": "2aa7a67a",
    "outputId": "ca1e23d3-7c15-41b5-a13a-f127dc75eb3e"
   },
   "outputs": [
    {
     "name": "stdout",
     "output_type": "stream",
     "text": [
      "Population avg spend amount for Married: 843526.80\n",
      "Population avg spend amount for Single: 880575.78\n",
      "\n",
      "Sample avg spend amount for Married: 843401.41\n",
      "Sample avg spend amount for Single: 881586.01\n",
      "\n",
      "Sample std for Married: 28747.45\n",
      "Sample std for Single: 30599.76\n",
      "\n",
      "Sample std error for Married: 909.07\n",
      "Sample std error for Single: 967.65\n",
      "\n",
      "Married_CI:  [841059.6309378392, 845078.140167503]\n",
      "Single_CI:  [879093.3492016713, 884078.6782803286]\n"
     ]
    }
   ],
   "source": [
    "#Taking the values for z at 99% confidence interval as:\n",
    "z99=2.576 #99% Confidence Interval\n",
    "\n",
    "print(\"Population avg spend amount for Married: {:.2f}\".format(avgamt_married['Purchase'].mean()))\n",
    "print(\"Population avg spend amount for Single: {:.2f}\\n\".format(avgamt_single['Purchase'].mean()))\n",
    "\n",
    "print(\"Sample avg spend amount for Married: {:.2f}\".format(np.mean(married_means)))\n",
    "print(\"Sample avg spend amount for Single: {:.2f}\\n\".format(np.mean(single_means)))\n",
    "\n",
    "print(\"Sample std for Married: {:.2f}\".format(pd.Series(married_means).std()))\n",
    "print(\"Sample std for Single: {:.2f}\\n\".format(pd.Series(single_means).std()))\n",
    "\n",
    "print(\"Sample std error for Married: {:.2f}\".format(pd.Series(married_means).std()/np.sqrt(1000)))\n",
    "print(\"Sample std error for Single: {:.2f}\\n\".format(pd.Series(single_means).std()/np.sqrt(1000)))\n",
    "\n",
    "sample_mean_married=np.mean(married_means)\n",
    "sample_mean_single=np.mean(single_means)\n",
    "\n",
    "sample_std_married=pd.Series(married_means).std()\n",
    "sample_std_single=pd.Series(single_means).std()\n",
    "\n",
    "sample_std_error_married=sample_std_married/np.sqrt(1000)\n",
    "sample_std_error_single=sample_std_single/np.sqrt(1000)\n",
    "\n",
    "Upper_Limit_married=z99*sample_std_error_male + sample_mean_married\n",
    "Lower_Limit_married=sample_mean_married - z99*sample_std_error_married\n",
    "\n",
    "Upper_Limit_single=z99*sample_std_error_single + sample_mean_single\n",
    "Lower_Limit_single=sample_mean_single - z99*sample_std_error_single\n",
    "\n",
    "print(\"Married_CI: \",[Lower_Limit_married,Upper_Limit_married])\n",
    "print(\"Single_CI: \",[Lower_Limit_single,Upper_Limit_single])"
   ]
  },
  {
   "cell_type": "markdown",
   "id": "43b0a77e",
   "metadata": {
    "id": "43b0a77e"
   },
   "source": [
    "Observation:\n",
    "    \n",
    "    For married and singles, it can be seen with larger sample size the sample mean gets closer to tthe population mean. And at greater confidence interval, the range increases."
   ]
  },
  {
   "cell_type": "markdown",
   "id": "14b6e6c1",
   "metadata": {},
   "source": [
    "Analysis of Age w.r.t Purchase in accordance with CLT:"
   ]
  },
  {
   "cell_type": "code",
   "execution_count": null,
   "id": "162ca964",
   "metadata": {
    "id": "162ca964",
    "outputId": "18e2561e-2873-493c-bd42-d86e3bfb2d00"
   },
   "outputs": [
    {
     "data": {
      "text/plain": [
       "26-35    2053\n",
       "36-45    1167\n",
       "18-25    1069\n",
       "46-50     531\n",
       "51-55     481\n",
       "55+       372\n",
       "0-17      218\n",
       "Name: Age, dtype: int64"
      ]
     },
     "execution_count": 30,
     "metadata": {},
     "output_type": "execute_result"
    }
   ],
   "source": [
    "avgamt_age = walmart.groupby(['User_ID', 'Age'],observed=True)[['Purchase']].sum()\n",
    "avgamt_age = avgamt_age.reset_index()\n",
    "\n",
    "avgamt_age['Age'].value_counts()"
   ]
  },
  {
   "cell_type": "code",
   "execution_count": null,
   "id": "9a50d088",
   "metadata": {
    "id": "9a50d088",
    "outputId": "580c2262-72d1-4db1-e1ac-c294420598cf"
   },
   "outputs": [
    {
     "data": {
      "image/png": "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\n",
      "text/plain": [
       "<Figure size 1440x1080 with 6 Axes>"
      ]
     },
     "metadata": {
      "needs_background": "light"
     },
     "output_type": "display_data"
    },
    {
     "data": {
      "image/png": "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\n",
      "text/plain": [
       "<Figure size 720x360 with 1 Axes>"
      ]
     },
     "metadata": {
      "needs_background": "light"
     },
     "output_type": "display_data"
    }
   ],
   "source": [
    "sample_size = 200\n",
    "num_repeatitions = 1000\n",
    "\n",
    "all_sample_means = {}\n",
    "\n",
    "age_intervals = ['26-35', '36-45', '18-25', '46-50', '51-55', '55+', '0-17']\n",
    "for i in age_intervals:\n",
    "    all_sample_means[i] = []\n",
    "\n",
    "for i in age_intervals:\n",
    "    for j in range(num_repeatitions):\n",
    "\n",
    "        mean = avgamt_age[avgamt_age['Age']==i].sample(sample_size, replace=True)['Purchase'].mean()\n",
    "        all_sample_means[i].append(mean)\n",
    "\n",
    "\n",
    "\n",
    "fig, axis = plt.subplots(nrows=3, ncols=2, figsize=(20, 15))\n",
    "\n",
    "sns.histplot(all_sample_means['26-35'],bins=35,ax=axis[0,0])\n",
    "sns.histplot(all_sample_means['36-45'],bins=35,ax=axis[0,1])\n",
    "sns.histplot(all_sample_means['18-25'],bins=35,ax=axis[1,0])\n",
    "sns.histplot(all_sample_means['46-50'],bins=35,ax=axis[1,1])\n",
    "sns.histplot(all_sample_means['51-55'],bins=35,ax=axis[2,0])\n",
    "sns.histplot(all_sample_means['55+'],bins=35,ax=axis[2,1])\n",
    "\n",
    "plt.show()\n",
    "\n",
    "plt.figure(figsize=(10, 5))\n",
    "sns.histplot(all_sample_means['0-17'],bins=35)\n",
    "plt.show()\n",
    "\n"
   ]
  },
  {
   "cell_type": "markdown",
   "id": "3ab0f13a",
   "metadata": {
    "id": "3ab0f13a"
   },
   "source": [
    "Observations:\n",
    "\n",
    "1. The means sample seems to be normally distributed for all age groups. Also, we can see the mean of the sample means are closer to the population mean as per central limit theorem."
   ]
  },
  {
   "cell_type": "markdown",
   "id": "6a7fdb53",
   "metadata": {
    "id": "6a7fdb53"
   },
   "source": [
    "Calculating 90% confidence interval for avg expenses for different age groups for sample size 200:"
   ]
  },
  {
   "cell_type": "code",
   "execution_count": null,
   "id": "d5b913a1",
   "metadata": {
    "id": "d5b913a1",
    "outputId": "79f80569-3e5b-4666-f29c-4dedfeabe339"
   },
   "outputs": [
    {
     "name": "stdout",
     "output_type": "stream",
     "text": [
      "All age group population mean: \n",
      " {'26-35': [989659.3170969313], '36-45': [879665.7103684661], '18-25': [854863.119738073], '46-50': [792548.7815442561], '51-55': [763200.9230769231], '55+': [539697.2446236559], '0-17': [618867.8119266055]}\n",
      "\n",
      "\n",
      "For age 26-35 confidence interval of means: (952206.28, 1027112.35)\n",
      "For age 36-45 confidence interval of means: (832398.89, 926932.53)\n",
      "For age 18-25 confidence interval of means: (810187.65, 899538.59)\n",
      "For age 46-50 confidence interval of means: (726209.00, 858888.57)\n",
      "For age 51-55 confidence interval of means: (703772.36, 822629.48)\n",
      "For age 55+ confidence interval of means: (487032.92, 592361.57)\n",
      "For age 0-17 confidence interval of means: (542320.46, 695415.16)\n"
     ]
    }
   ],
   "source": [
    "z90=1.645 #90% Confidence Interval\n",
    "\n",
    "sample_size = 200\n",
    "num_repeatitions = 1000\n",
    "\n",
    "all_population_means={}\n",
    "all_sample_means = {}\n",
    "\n",
    "age_intervals = ['26-35', '36-45', '18-25', '46-50', '51-55', '55+', '0-17']\n",
    "for i in age_intervals:\n",
    "    all_sample_means[i] = []\n",
    "    all_population_means[i]=[]\n",
    "    population_mean=avgamt_age[avgamt_age['Age']==i]['Purchase'].mean()\n",
    "    all_population_means[i].append(population_mean)\n",
    "\n",
    "print(\"All age group population mean: \\n\", all_population_means)\n",
    "print(\"\\n\")\n",
    "\n",
    "for i in age_intervals:\n",
    "    for j in range(num_repeatitions):\n",
    "\n",
    "        mean = avgamt_age[avgamt_age['Age']==i].sample(sample_size, replace=True)['Purchase'].mean()\n",
    "        all_sample_means[i].append(mean)\n",
    "\n",
    "\n",
    "for val in ['26-35', '36-45', '18-25', '46-50', '51-55', '55+', '0-17']:\n",
    "\n",
    "    new_df = avgamt_age[avgamt_age['Age']==val]\n",
    "\n",
    "    std_error = z90*new_df['Purchase'].std()/np.sqrt(len(new_df))\n",
    "    sample_mean = new_df['Purchase'].mean()\n",
    "    lower_lim = sample_mean - std_error\n",
    "    upper_lim = sample_mean + std_error\n",
    "\n",
    "    print(\"For age {} confidence interval of means: ({:.2f}, {:.2f})\".format(val, lower_lim, upper_lim))"
   ]
  },
  {
   "cell_type": "markdown",
   "id": "942adf89",
   "metadata": {
    "id": "942adf89"
   },
   "source": [
    "Calculating 95% confidence interval for avg expenses for different age groups for sample size 200:"
   ]
  },
  {
   "cell_type": "code",
   "execution_count": null,
   "id": "fea6581b",
   "metadata": {
    "id": "fea6581b",
    "outputId": "32ad9f27-0a67-43cf-8f4f-045432855231"
   },
   "outputs": [
    {
     "name": "stdout",
     "output_type": "stream",
     "text": [
      "For age 26-35 confidence interval of means: (945034.42, 1034284.21)\n",
      "For age 36-45 confidence interval of means: (823347.80, 935983.62)\n",
      "For age 18-25 confidence interval of means: (801632.78, 908093.46)\n",
      "For age 46-50 confidence interval of means: (713505.63, 871591.93)\n",
      "For age 51-55 confidence interval of means: (692392.43, 834009.42)\n",
      "For age 55+ confidence interval of means: (476948.26, 602446.23)\n",
      "For age 0-17 confidence interval of means: (527662.46, 710073.17)\n"
     ]
    }
   ],
   "source": [
    "z95=1.960 #95% Confidence Interval\n",
    "\n",
    "sample_size = 200\n",
    "num_repitions = 1000\n",
    "\n",
    "all_means = {}\n",
    "\n",
    "age_intervals = ['26-35', '36-45', '18-25', '46-50', '51-55', '55+', '0-17']\n",
    "for i in age_intervals:\n",
    "    all_means[i] = []\n",
    "\n",
    "for i in age_intervals:\n",
    "    for j in range(num_repitions):\n",
    "        mean = avgamt_age[avgamt_age['Age']==i].sample(sample_size, replace=True)['Purchase'].mean()\n",
    "        all_means[i].append(mean)\n",
    "for val in ['26-35', '36-45', '18-25', '46-50', '51-55', '55+', '0-17']:\n",
    "\n",
    "    new_df = avgamt_age[avgamt_age['Age']==val]\n",
    "\n",
    "    std_error = z95*new_df['Purchase'].std()/np.sqrt(len(new_df))\n",
    "    sample_mean = new_df['Purchase'].mean()\n",
    "    lower_lim = sample_mean - std_error\n",
    "    upper_lim = sample_mean + std_error\n",
    "\n",
    "    print(\"For age {} confidence interval of means: ({:.2f}, {:.2f})\".format(val, lower_lim, upper_lim))"
   ]
  },
  {
   "cell_type": "markdown",
   "id": "2f7bba9a",
   "metadata": {
    "id": "2f7bba9a"
   },
   "source": [
    "Calculating 99% confidence interval for avg expenses for different age groups for sample size 200:"
   ]
  },
  {
   "cell_type": "code",
   "execution_count": null,
   "id": "32aa73fc",
   "metadata": {
    "id": "32aa73fc",
    "outputId": "92aec280-5b0f-4fa2-9b85-71eb81c88996"
   },
   "outputs": [
    {
     "name": "stdout",
     "output_type": "stream",
     "text": [
      "For age 26-35 confidence interval of means: (931009.46, 1048309.18)\n",
      "For age 36-45 confidence interval of means: (805647.89, 953683.53)\n",
      "For age 18-25 confidence interval of means: (784903.24, 924823.00)\n",
      "For age 46-50 confidence interval of means: (688663.50, 896434.06)\n",
      "For age 51-55 confidence interval of means: (670138.33, 856263.52)\n",
      "For age 55+ confidence interval of means: (457227.15, 622167.34)\n",
      "For age 0-17 confidence interval of means: (498997.92, 738737.71)\n"
     ]
    }
   ],
   "source": [
    "z99=2.576 #99% Confidence Interval\n",
    "\n",
    "sample_size = 200\n",
    "num_repitions = 1000\n",
    "\n",
    "all_means = {}\n",
    "\n",
    "age_intervals = ['26-35', '36-45', '18-25', '46-50', '51-55', '55+', '0-17']\n",
    "for i in age_intervals:\n",
    "    all_means[i] = []\n",
    "\n",
    "for i in age_intervals:\n",
    "    for j in range(num_repitions):\n",
    "        mean = avgamt_age[avgamt_age['Age']==i].sample(sample_size, replace=True)['Purchase'].mean()\n",
    "        all_means[i].append(mean)\n",
    "for val in ['26-35', '36-45', '18-25', '46-50', '51-55', '55+', '0-17']:\n",
    "\n",
    "    new_df = avgamt_age[avgamt_age['Age']==val]\n",
    "\n",
    "    std_error = z99*new_df['Purchase'].std()/np.sqrt(len(new_df))\n",
    "    sample_mean = new_df['Purchase'].mean()\n",
    "    lower_lim = sample_mean - std_error\n",
    "    upper_lim = sample_mean + std_error\n",
    "\n",
    "    print(\"For age {} confidence interval of means: ({:.2f}, {:.2f})\".format(val, lower_lim, upper_lim))"
   ]
  },
  {
   "cell_type": "markdown",
   "id": "6097b179",
   "metadata": {
    "id": "6097b179"
   },
   "source": [
    "Observation:\n",
    "    \n",
    "    1. We can see the sample means are closer to the population mean for the differnt age groups. And, with greater confidence interval we have the upper limit and lower limit range increases. As we have seen for gender and marital status, by increasing the sample size we can have the mean of the sample means closer to the population."
   ]
  },
  {
   "cell_type": "markdown",
   "id": "a0cb7cea",
   "metadata": {},
   "source": [
    "# Business Insights:\n",
    "\n",
    "1. ~ 80% of the users are between the age 18-50 (40%: 26-35, 18%: 18-25, 20%: 36-45)\n",
    "\n",
    "2. 75% of the users are Male and 25% are Female\n",
    "\n",
    "3. 60% Single, 40% Married\n",
    "\n",
    "4. 35% Staying in the city from 1 year, 18% from 2 years, 17% from 3 years\n",
    "\n",
    "5. Total of 20 product categories are there\n",
    "\n",
    "6. There are 20 differnent types of occupations in the city\n",
    "\n",
    "7. Most of the users are Male\n",
    "\n",
    "8. There are 20 different types of Occupation and Product_Category\n",
    "\n",
    "9. More users belong to B City_Category\n",
    "\n",
    "10. More users are Single as compare to Married\n",
    "\n",
    "11. Product_Category - 1, 5, 8, & 11 have highest purchasing frequency.\n",
    "\n",
    "12. Average amount spend by Male customers: 925344.40\n",
    "\n",
    "13. Average amount spend by Female customers: 712024.39"
   ]
  },
  {
   "cell_type": "markdown",
   "id": "ebac83da",
   "metadata": {
    "id": "ebac83da"
   },
   "source": [
    "# Recommendations:\n",
    "\n",
    "    1. Men spent more money than women, company can focus on retaining the male customers and getting more male customers.\n",
    "    \n",
    "    2. Product_Category - 1, 5, 8 have highest purchasing frequency. It means these products in these categories are in more demand. Company can focus on selling more of these products.\n",
    "    \n",
    "    3. Unmarried customers spend more money than married customers, So company should focus on acquisition of Unmarried customers, although it is also recommended that the unmarried strata is also strategised and focused upon, to expand the customer bas and pour in more profits.\n",
    "    \n",
    "    4. Customers in the age 26-35 spend more money than the others, So company should focus on acquisition of customers who are in the age 26-35.\n",
    "    \n",
    "    5. We have more customers aged 26-35 in the city category B and A, company can focus more on these customers for these cities to increase the business.\n",
    "    \n",
    "    6. Male customers living in City_Category C spend more money than other male customers living in B or C, Selling more products in the City_Category C will help the company increase the revenue.\n",
    "    \n",
    "    7. Some of the Product category like 19,20,13 have very less purchase. Company can think of dropping it.\n",
    "    \n",
    "    8. The top 10 users who have purchased more company should give more offers and discounts so that they can be retained and can be helpful for companies business.\n",
    "    \n",
    "    9. The occupation which are contributing more, for them the company can think of offering credit cards or other benefits by liasing with some financial partners to increase the sales.\n",
    "    \n",
    "    10. The top products should be given focus in order to maintain the quality in order to further increase the sales of those products.\n",
    "    \n",
    "    11. People who are staying in city for an year have contributed to 35% of the total purchase amount. Company can focus on such customer base who are neither too old nor too new residents in the city.\n",
    "    \n",
    "    12. We have highest frequency of purchase order between 5k and 10k, company can focus more on these mid range products to increase the sales."
   ]
  },
  {
   "cell_type": "markdown",
   "id": "16aed723",
   "metadata": {
    "id": "16aed723"
   },
   "source": [
    "Question:\n",
    "\n",
    "    1.Are women spending more money per transaction than men? Why or Why not?\n",
    "    \n",
    "    Ans: No. CI's of male and female do not overlap and upper limits of female purchase CI are lesser than lower limits of male purchase CI. This proves that men usually spend more than women (NOTE: as per data 77% contibutions are from men and only 23% purchases are from women).\n",
    "    \n",
    "    The reason for less purchase by women could have several factors:\n",
    "\n",
    "      Males might be doing the purchase for females.\n",
    "      Salary can be a factor in less purchase.\n",
    "      We also need to see whether male-based products were sold more than women-based products to clearly identify difference in spending pattern. If the female based products quality/quantity needs to be improved for women purchasing.\n",
    "    \n",
    "    2. Confidence intervals and distribution of the mean of the expenses by female and male customers.\n",
    "    \n",
    "    At 99% Confidence Interval with sample size 1000\n",
    "    \n",
    "    Average amount spend by male customers lie in the range 9,22,011.28 - 9,27,154.61\n",
    "\n",
    "    Average amount spend by female customers lie in range 7,09,678.88 - 7,13,811.31\n",
    "    \n",
    "    \n",
    "    3. Are confidence intervals of average male and female spending overlapping? How can Walmart leverage this conclusion to make changes or improvements?\n",
    "    \n",
    "    Ans: No. Confidence intervals of average male and female spending are not overlapping. This trend can be changed via introducing female centric marketing strategies by Walmart so that more female customers are attracted to increase female purchases to achieve comparable statistics close to 50%.\n",
    "    \n",
    "    4. Results when the same activity is performed for Married vs Unmarried\n",
    "    \n",
    "    At 99% Confidence Interval with sample size 1000\n",
    "    \n",
    "    Average amount spend by married customers lie in the range:  [841059.6309378392, 845078.140167503]\n",
    "    Average amount spend by unmarried customers lie in the range:  [879093.3492016713, 884078.6782803286]\n",
    "    \n",
    "    5. Results when the same activity is performed for Age\n",
    "    \n",
    "    At 99% Confidence Interval with sample size 200\n",
    "    \n",
    "    For age 26-35 confidence interval of means: (931009.46,1048309.18)\n",
    "    For age 36-45 confidence interval of means: (805647.89, 953683.53)\n",
    "    For age 18-25 confidence interval of means: (784903.24, 924823.00)\n",
    "    For age 46-50 confidence interval of means: (688663.50, 896434.06)\n",
    "    For age 51-55 confidence interval of means: (670138.33, 856263.52)\n",
    "    For age 55+ confidence interval of means: (457227.15, 622167.34)\n",
    "    For age 0-17 confidence interval of means: (498997.92, 738737.71)\n",
    "\n",
    "    "
   ]
  },
  {
   "cell_type": "code",
   "execution_count": null,
   "id": "dd0e008d",
   "metadata": {
    "id": "dd0e008d"
   },
   "outputs": [],
   "source": []
  }
 ],
 "metadata": {
  "colab": {
   "provenance": []
  },
  "kernelspec": {
   "display_name": "Python 3",
   "language": "python",
   "name": "python3"
  },
  "language_info": {
   "codemirror_mode": {
    "name": "ipython",
    "version": 3
   },
   "file_extension": ".py",
   "mimetype": "text/x-python",
   "name": "python",
   "nbconvert_exporter": "python",
   "pygments_lexer": "ipython3",
   "version": "3.8.8"
  }
 },
 "nbformat": 4,
 "nbformat_minor": 5
}
